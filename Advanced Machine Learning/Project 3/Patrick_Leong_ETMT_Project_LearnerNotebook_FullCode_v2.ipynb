{
 "cells": [
  {
   "cell_type": "markdown",
   "metadata": {
    "id": "9a54fa0f"
   },
   "source": [
    "# Credit Card Users Churn Prediction"
   ]
  },
  {
   "cell_type": "markdown",
   "metadata": {
    "id": "9EaJ8AGwpM-2"
   },
   "source": [
    "## Problem Statement"
   ]
  },
  {
   "cell_type": "markdown",
   "metadata": {
    "id": "x3-QehJxbp0t"
   },
   "source": [
    "### Business Context\n",
    "\n",
    "The Thera bank recently saw a steep decline in the number of users of their credit card, credit cards are a good source of income for banks because of different kinds of fees charged by the banks like annual fees, balance transfer fees, and cash advance fees, late payment fees, foreign transaction fees, and others. Some fees are charged to every user irrespective of usage, while others are charged under specified circumstances.\n",
    "\n",
    "Customers’ leaving credit cards services would lead bank to loss, so the bank wants to analyze the data of customers and identify the customers who will leave their credit card services and reason for same – so that bank could improve upon those areas\n",
    "\n",
    "You as a Data scientist at Thera bank need to come up with a classification model that will help the bank improve its services so that customers do not renounce their credit cards\n",
    "\n",
    "### Data Description\n",
    "\n",
    "* CLIENTNUM: Client number. Unique identifier for the customer holding the account\n",
    "* Attrition_Flag: Internal event (customer activity) variable - if the account is closed then \"Attrited Customer\" else \"Existing Customer\"\n",
    "* Customer_Age: Age in Years\n",
    "* Gender: Gender of the account holder\n",
    "* Dependent_count: Number of dependents\n",
    "* Education_Level: Educational Qualification of the account holder - Graduate, High School, Unknown, Uneducated, College(refers to college student), Post-Graduate, Doctorate\n",
    "* Marital_Status: Marital Status of the account holder\n",
    "* Income_Category: Annual Income Category of the account holder\n",
    "* Card_Category: Type of Card\n",
    "* Months_on_book: Period of relationship with the bank (in months)\n",
    "* Total_Relationship_Count: Total no. of products held by the customer\n",
    "* Months_Inactive_12_mon: No. of months inactive in the last 12 months\n",
    "* Contacts_Count_12_mon: No. of Contacts in the last 12 months\n",
    "* Credit_Limit: Credit Limit on the Credit Card\n",
    "* Total_Revolving_Bal: Total Revolving Balance on the Credit Card\n",
    "* Avg_Open_To_Buy: Open to Buy Credit Line (Average of last 12 months)\n",
    "* Total_Amt_Chng_Q4_Q1: Change in Transaction Amount (Q4 over Q1)\n",
    "* Total_Trans_Amt: Total Transaction Amount (Last 12 months)\n",
    "* Total_Trans_Ct: Total Transaction Count (Last 12 months)\n",
    "* Total_Ct_Chng_Q4_Q1: Change in Transaction Count (Q4 over Q1)\n",
    "* Avg_Utilization_Ratio: Average Card Utilization Ratio\n",
    "\n",
    "#### What Is a Revolving Balance?\n",
    "\n",
    "- If we don't pay the balance of the revolving credit account in full every month, the unpaid portion carries over to the next month. That's called a revolving balance\n",
    "\n",
    "\n",
    "##### What is the Average Open to buy?\n",
    "\n",
    "- 'Open to Buy' means the amount left on your credit card to use. Now, this column represents the average of this value for the last 12 months.\n",
    "\n",
    "##### What is the Average utilization Ratio?\n",
    "\n",
    "- The Avg_Utilization_Ratio represents how much of the available credit the customer spent. This is useful for calculating credit scores.\n",
    "\n",
    "\n",
    "##### Relation b/w Avg_Open_To_Buy, Credit_Limit and Avg_Utilization_Ratio:\n",
    "\n",
    "- ( Avg_Open_To_Buy / Credit_Limit ) + Avg_Utilization_Ratio = 1"
   ]
  },
  {
   "cell_type": "markdown",
   "metadata": {
    "id": "NbHOIdlwcrqR"
   },
   "source": [
    "### **Please read the instructions carefully before starting the project.**\n",
    "This is a commented Jupyter IPython Notebook file in which all the instructions and tasks to be performed are mentioned.\n",
    "* Blanks '_______' are provided in the notebook that\n",
    "needs to be filled with an appropriate code to get the correct result. With every '_______' blank, there is a comment that briefly describes what needs to be filled in the blank space.\n",
    "* Identify the task to be performed correctly, and only then proceed to write the required code.\n",
    "* Fill the code wherever asked by the commented lines like \"# write your code here\" or \"# complete the code\". Running incomplete code may throw error.\n",
    "* Please run the codes in a sequential manner from the beginning to avoid any unnecessary errors.\n",
    "* Add the results/observations (wherever mentioned) derived from the analysis in the presentation and submit the same.\n"
   ]
  },
  {
   "cell_type": "markdown",
   "metadata": {
    "id": "v_-uuGqH-qTt"
   },
   "source": [
    "## Importing necessary libraries"
   ]
  },
  {
   "cell_type": "code",
   "execution_count": 1,
   "metadata": {
    "id": "83D17_Wl4jal",
    "ExecuteTime": {
     "end_time": "2023-11-13T21:12:16.931639218Z",
     "start_time": "2023-11-13T21:12:16.658265273Z"
    }
   },
   "outputs": [],
   "source": [
    "import pandas as pd\n",
    "import numpy as np\n",
    "\n",
    "import matplotlib.pyplot as plt\n",
    "import seaborn as sns\n",
    "\n",
    "import xgboost as xgb\n",
    "import ydata_profiling as ydp"
   ]
  },
  {
   "cell_type": "markdown",
   "metadata": {
    "id": "xxhpZv9y-qTw"
   },
   "source": [
    "## Loading the dataset"
   ]
  },
  {
   "cell_type": "code",
   "execution_count": 2,
   "metadata": {
    "id": "oJnKoHy14jam",
    "ExecuteTime": {
     "end_time": "2023-11-13T21:12:16.974953912Z",
     "start_time": "2023-11-13T21:12:16.950790861Z"
    }
   },
   "outputs": [],
   "source": [
    "file_url = './BankChurners.csv'\n",
    "data_original = pd.read_csv(file_url, index_col='CLIENTNUM')"
   ]
  },
  {
   "cell_type": "code",
   "execution_count": 3,
   "outputs": [
    {
     "data": {
      "text/plain": "              Attrition_Flag  Customer_Age Gender  Dependent_count  \\\nCLIENTNUM                                                            \n768805383  Existing Customer            45      M                3   \n818770008  Existing Customer            49      F                5   \n713982108  Existing Customer            51      M                3   \n769911858  Existing Customer            40      F                4   \n709106358  Existing Customer            40      M                3   \n\n          Education_Level Marital_Status Income_Category Card_Category  \\\nCLIENTNUM                                                                \n768805383     High School        Married     $60K - $80K          Blue   \n818770008        Graduate         Single  Less than $40K          Blue   \n713982108        Graduate        Married    $80K - $120K          Blue   \n769911858     High School            NaN  Less than $40K          Blue   \n709106358      Uneducated        Married     $60K - $80K          Blue   \n\n           Months_on_book  Total_Relationship_Count  Months_Inactive_12_mon  \\\nCLIENTNUM                                                                     \n768805383              39                         5                       1   \n818770008              44                         6                       1   \n713982108              36                         4                       1   \n769911858              34                         3                       4   \n709106358              21                         5                       1   \n\n           Contacts_Count_12_mon  Credit_Limit  Total_Revolving_Bal  \\\nCLIENTNUM                                                             \n768805383                      3       12691.0                  777   \n818770008                      2        8256.0                  864   \n713982108                      0        3418.0                    0   \n769911858                      1        3313.0                 2517   \n709106358                      0        4716.0                    0   \n\n           Avg_Open_To_Buy  Total_Amt_Chng_Q4_Q1  Total_Trans_Amt  \\\nCLIENTNUM                                                           \n768805383          11914.0                 1.335             1144   \n818770008           7392.0                 1.541             1291   \n713982108           3418.0                 2.594             1887   \n769911858            796.0                 1.405             1171   \n709106358           4716.0                 2.175              816   \n\n           Total_Trans_Ct  Total_Ct_Chng_Q4_Q1  Avg_Utilization_Ratio  \nCLIENTNUM                                                              \n768805383              42                1.625                  0.061  \n818770008              33                3.714                  0.105  \n713982108              20                2.333                  0.000  \n769911858              20                2.333                  0.760  \n709106358              28                2.500                  0.000  ",
      "text/html": "<div>\n<style scoped>\n    .dataframe tbody tr th:only-of-type {\n        vertical-align: middle;\n    }\n\n    .dataframe tbody tr th {\n        vertical-align: top;\n    }\n\n    .dataframe thead th {\n        text-align: right;\n    }\n</style>\n<table border=\"1\" class=\"dataframe\">\n  <thead>\n    <tr style=\"text-align: right;\">\n      <th></th>\n      <th>Attrition_Flag</th>\n      <th>Customer_Age</th>\n      <th>Gender</th>\n      <th>Dependent_count</th>\n      <th>Education_Level</th>\n      <th>Marital_Status</th>\n      <th>Income_Category</th>\n      <th>Card_Category</th>\n      <th>Months_on_book</th>\n      <th>Total_Relationship_Count</th>\n      <th>Months_Inactive_12_mon</th>\n      <th>Contacts_Count_12_mon</th>\n      <th>Credit_Limit</th>\n      <th>Total_Revolving_Bal</th>\n      <th>Avg_Open_To_Buy</th>\n      <th>Total_Amt_Chng_Q4_Q1</th>\n      <th>Total_Trans_Amt</th>\n      <th>Total_Trans_Ct</th>\n      <th>Total_Ct_Chng_Q4_Q1</th>\n      <th>Avg_Utilization_Ratio</th>\n    </tr>\n    <tr>\n      <th>CLIENTNUM</th>\n      <th></th>\n      <th></th>\n      <th></th>\n      <th></th>\n      <th></th>\n      <th></th>\n      <th></th>\n      <th></th>\n      <th></th>\n      <th></th>\n      <th></th>\n      <th></th>\n      <th></th>\n      <th></th>\n      <th></th>\n      <th></th>\n      <th></th>\n      <th></th>\n      <th></th>\n      <th></th>\n    </tr>\n  </thead>\n  <tbody>\n    <tr>\n      <th>768805383</th>\n      <td>Existing Customer</td>\n      <td>45</td>\n      <td>M</td>\n      <td>3</td>\n      <td>High School</td>\n      <td>Married</td>\n      <td>$60K - $80K</td>\n      <td>Blue</td>\n      <td>39</td>\n      <td>5</td>\n      <td>1</td>\n      <td>3</td>\n      <td>12691.0</td>\n      <td>777</td>\n      <td>11914.0</td>\n      <td>1.335</td>\n      <td>1144</td>\n      <td>42</td>\n      <td>1.625</td>\n      <td>0.061</td>\n    </tr>\n    <tr>\n      <th>818770008</th>\n      <td>Existing Customer</td>\n      <td>49</td>\n      <td>F</td>\n      <td>5</td>\n      <td>Graduate</td>\n      <td>Single</td>\n      <td>Less than $40K</td>\n      <td>Blue</td>\n      <td>44</td>\n      <td>6</td>\n      <td>1</td>\n      <td>2</td>\n      <td>8256.0</td>\n      <td>864</td>\n      <td>7392.0</td>\n      <td>1.541</td>\n      <td>1291</td>\n      <td>33</td>\n      <td>3.714</td>\n      <td>0.105</td>\n    </tr>\n    <tr>\n      <th>713982108</th>\n      <td>Existing Customer</td>\n      <td>51</td>\n      <td>M</td>\n      <td>3</td>\n      <td>Graduate</td>\n      <td>Married</td>\n      <td>$80K - $120K</td>\n      <td>Blue</td>\n      <td>36</td>\n      <td>4</td>\n      <td>1</td>\n      <td>0</td>\n      <td>3418.0</td>\n      <td>0</td>\n      <td>3418.0</td>\n      <td>2.594</td>\n      <td>1887</td>\n      <td>20</td>\n      <td>2.333</td>\n      <td>0.000</td>\n    </tr>\n    <tr>\n      <th>769911858</th>\n      <td>Existing Customer</td>\n      <td>40</td>\n      <td>F</td>\n      <td>4</td>\n      <td>High School</td>\n      <td>NaN</td>\n      <td>Less than $40K</td>\n      <td>Blue</td>\n      <td>34</td>\n      <td>3</td>\n      <td>4</td>\n      <td>1</td>\n      <td>3313.0</td>\n      <td>2517</td>\n      <td>796.0</td>\n      <td>1.405</td>\n      <td>1171</td>\n      <td>20</td>\n      <td>2.333</td>\n      <td>0.760</td>\n    </tr>\n    <tr>\n      <th>709106358</th>\n      <td>Existing Customer</td>\n      <td>40</td>\n      <td>M</td>\n      <td>3</td>\n      <td>Uneducated</td>\n      <td>Married</td>\n      <td>$60K - $80K</td>\n      <td>Blue</td>\n      <td>21</td>\n      <td>5</td>\n      <td>1</td>\n      <td>0</td>\n      <td>4716.0</td>\n      <td>0</td>\n      <td>4716.0</td>\n      <td>2.175</td>\n      <td>816</td>\n      <td>28</td>\n      <td>2.500</td>\n      <td>0.000</td>\n    </tr>\n  </tbody>\n</table>\n</div>"
     },
     "execution_count": 3,
     "metadata": {},
     "output_type": "execute_result"
    }
   ],
   "source": [
    "df = data_original.copy()\n",
    "df.head()"
   ],
   "metadata": {
    "collapsed": false,
    "ExecuteTime": {
     "end_time": "2023-11-13T21:12:16.975486720Z",
     "start_time": "2023-11-13T21:12:16.950924483Z"
    }
   }
  },
  {
   "cell_type": "markdown",
   "metadata": {
    "id": "UvpMDcaaMKtI"
   },
   "source": [
    "## Data Overview"
   ]
  },
  {
   "cell_type": "markdown",
   "metadata": {
    "id": "tIiCRwqZ54_C"
   },
   "source": [
    "- Observations\n",
    "- Sanity checks"
   ]
  },
  {
   "cell_type": "code",
   "execution_count": 4,
   "metadata": {
    "id": "01hJQ7EfMKtK",
    "ExecuteTime": {
     "end_time": "2023-11-13T21:12:16.975698634Z",
     "start_time": "2023-11-13T21:12:16.951038665Z"
    }
   },
   "outputs": [
    {
     "data": {
      "text/plain": "(10127, 20)"
     },
     "execution_count": 4,
     "metadata": {},
     "output_type": "execute_result"
    }
   ],
   "source": [
    "df.shape"
   ]
  },
  {
   "cell_type": "code",
   "execution_count": 5,
   "outputs": [
    {
     "name": "stdout",
     "output_type": "stream",
     "text": [
      "<class 'pandas.core.frame.DataFrame'>\n",
      "Int64Index: 10127 entries, 768805383 to 714337233\n",
      "Data columns (total 20 columns):\n",
      " #   Column                    Non-Null Count  Dtype  \n",
      "---  ------                    --------------  -----  \n",
      " 0   Attrition_Flag            10127 non-null  object \n",
      " 1   Customer_Age              10127 non-null  int64  \n",
      " 2   Gender                    10127 non-null  object \n",
      " 3   Dependent_count           10127 non-null  int64  \n",
      " 4   Education_Level           8608 non-null   object \n",
      " 5   Marital_Status            9378 non-null   object \n",
      " 6   Income_Category           10127 non-null  object \n",
      " 7   Card_Category             10127 non-null  object \n",
      " 8   Months_on_book            10127 non-null  int64  \n",
      " 9   Total_Relationship_Count  10127 non-null  int64  \n",
      " 10  Months_Inactive_12_mon    10127 non-null  int64  \n",
      " 11  Contacts_Count_12_mon     10127 non-null  int64  \n",
      " 12  Credit_Limit              10127 non-null  float64\n",
      " 13  Total_Revolving_Bal       10127 non-null  int64  \n",
      " 14  Avg_Open_To_Buy           10127 non-null  float64\n",
      " 15  Total_Amt_Chng_Q4_Q1      10127 non-null  float64\n",
      " 16  Total_Trans_Amt           10127 non-null  int64  \n",
      " 17  Total_Trans_Ct            10127 non-null  int64  \n",
      " 18  Total_Ct_Chng_Q4_Q1       10127 non-null  float64\n",
      " 19  Avg_Utilization_Ratio     10127 non-null  float64\n",
      "dtypes: float64(5), int64(9), object(6)\n",
      "memory usage: 1.6+ MB\n"
     ]
    }
   ],
   "source": [
    "df.info()"
   ],
   "metadata": {
    "collapsed": false,
    "ExecuteTime": {
     "end_time": "2023-11-13T21:12:16.998161328Z",
     "start_time": "2023-11-13T21:12:16.951130176Z"
    }
   }
  },
  {
   "cell_type": "code",
   "execution_count": 6,
   "outputs": [
    {
     "data": {
      "text/plain": "                            count         mean          std     min       25%  \\\nCustomer_Age              10127.0    46.325960     8.016814    26.0    41.000   \nDependent_count           10127.0     2.346203     1.298908     0.0     1.000   \nMonths_on_book            10127.0    35.928409     7.986416    13.0    31.000   \nTotal_Relationship_Count  10127.0     3.812580     1.554408     1.0     3.000   \nMonths_Inactive_12_mon    10127.0     2.341167     1.010622     0.0     2.000   \nContacts_Count_12_mon     10127.0     2.455317     1.106225     0.0     2.000   \nCredit_Limit              10127.0  8631.953698  9088.776650  1438.3  2555.000   \nTotal_Revolving_Bal       10127.0  1162.814061   814.987335     0.0   359.000   \nAvg_Open_To_Buy           10127.0  7469.139637  9090.685324     3.0  1324.500   \nTotal_Amt_Chng_Q4_Q1      10127.0     0.759941     0.219207     0.0     0.631   \nTotal_Trans_Amt           10127.0  4404.086304  3397.129254   510.0  2155.500   \nTotal_Trans_Ct            10127.0    64.858695    23.472570    10.0    45.000   \nTotal_Ct_Chng_Q4_Q1       10127.0     0.712222     0.238086     0.0     0.582   \nAvg_Utilization_Ratio     10127.0     0.274894     0.275691     0.0     0.023   \n\n                               50%        75%        max  \nCustomer_Age                46.000     52.000     73.000  \nDependent_count              2.000      3.000      5.000  \nMonths_on_book              36.000     40.000     56.000  \nTotal_Relationship_Count     4.000      5.000      6.000  \nMonths_Inactive_12_mon       2.000      3.000      6.000  \nContacts_Count_12_mon        2.000      3.000      6.000  \nCredit_Limit              4549.000  11067.500  34516.000  \nTotal_Revolving_Bal       1276.000   1784.000   2517.000  \nAvg_Open_To_Buy           3474.000   9859.000  34516.000  \nTotal_Amt_Chng_Q4_Q1         0.736      0.859      3.397  \nTotal_Trans_Amt           3899.000   4741.000  18484.000  \nTotal_Trans_Ct              67.000     81.000    139.000  \nTotal_Ct_Chng_Q4_Q1          0.702      0.818      3.714  \nAvg_Utilization_Ratio        0.176      0.503      0.999  ",
      "text/html": "<div>\n<style scoped>\n    .dataframe tbody tr th:only-of-type {\n        vertical-align: middle;\n    }\n\n    .dataframe tbody tr th {\n        vertical-align: top;\n    }\n\n    .dataframe thead th {\n        text-align: right;\n    }\n</style>\n<table border=\"1\" class=\"dataframe\">\n  <thead>\n    <tr style=\"text-align: right;\">\n      <th></th>\n      <th>count</th>\n      <th>mean</th>\n      <th>std</th>\n      <th>min</th>\n      <th>25%</th>\n      <th>50%</th>\n      <th>75%</th>\n      <th>max</th>\n    </tr>\n  </thead>\n  <tbody>\n    <tr>\n      <th>Customer_Age</th>\n      <td>10127.0</td>\n      <td>46.325960</td>\n      <td>8.016814</td>\n      <td>26.0</td>\n      <td>41.000</td>\n      <td>46.000</td>\n      <td>52.000</td>\n      <td>73.000</td>\n    </tr>\n    <tr>\n      <th>Dependent_count</th>\n      <td>10127.0</td>\n      <td>2.346203</td>\n      <td>1.298908</td>\n      <td>0.0</td>\n      <td>1.000</td>\n      <td>2.000</td>\n      <td>3.000</td>\n      <td>5.000</td>\n    </tr>\n    <tr>\n      <th>Months_on_book</th>\n      <td>10127.0</td>\n      <td>35.928409</td>\n      <td>7.986416</td>\n      <td>13.0</td>\n      <td>31.000</td>\n      <td>36.000</td>\n      <td>40.000</td>\n      <td>56.000</td>\n    </tr>\n    <tr>\n      <th>Total_Relationship_Count</th>\n      <td>10127.0</td>\n      <td>3.812580</td>\n      <td>1.554408</td>\n      <td>1.0</td>\n      <td>3.000</td>\n      <td>4.000</td>\n      <td>5.000</td>\n      <td>6.000</td>\n    </tr>\n    <tr>\n      <th>Months_Inactive_12_mon</th>\n      <td>10127.0</td>\n      <td>2.341167</td>\n      <td>1.010622</td>\n      <td>0.0</td>\n      <td>2.000</td>\n      <td>2.000</td>\n      <td>3.000</td>\n      <td>6.000</td>\n    </tr>\n    <tr>\n      <th>Contacts_Count_12_mon</th>\n      <td>10127.0</td>\n      <td>2.455317</td>\n      <td>1.106225</td>\n      <td>0.0</td>\n      <td>2.000</td>\n      <td>2.000</td>\n      <td>3.000</td>\n      <td>6.000</td>\n    </tr>\n    <tr>\n      <th>Credit_Limit</th>\n      <td>10127.0</td>\n      <td>8631.953698</td>\n      <td>9088.776650</td>\n      <td>1438.3</td>\n      <td>2555.000</td>\n      <td>4549.000</td>\n      <td>11067.500</td>\n      <td>34516.000</td>\n    </tr>\n    <tr>\n      <th>Total_Revolving_Bal</th>\n      <td>10127.0</td>\n      <td>1162.814061</td>\n      <td>814.987335</td>\n      <td>0.0</td>\n      <td>359.000</td>\n      <td>1276.000</td>\n      <td>1784.000</td>\n      <td>2517.000</td>\n    </tr>\n    <tr>\n      <th>Avg_Open_To_Buy</th>\n      <td>10127.0</td>\n      <td>7469.139637</td>\n      <td>9090.685324</td>\n      <td>3.0</td>\n      <td>1324.500</td>\n      <td>3474.000</td>\n      <td>9859.000</td>\n      <td>34516.000</td>\n    </tr>\n    <tr>\n      <th>Total_Amt_Chng_Q4_Q1</th>\n      <td>10127.0</td>\n      <td>0.759941</td>\n      <td>0.219207</td>\n      <td>0.0</td>\n      <td>0.631</td>\n      <td>0.736</td>\n      <td>0.859</td>\n      <td>3.397</td>\n    </tr>\n    <tr>\n      <th>Total_Trans_Amt</th>\n      <td>10127.0</td>\n      <td>4404.086304</td>\n      <td>3397.129254</td>\n      <td>510.0</td>\n      <td>2155.500</td>\n      <td>3899.000</td>\n      <td>4741.000</td>\n      <td>18484.000</td>\n    </tr>\n    <tr>\n      <th>Total_Trans_Ct</th>\n      <td>10127.0</td>\n      <td>64.858695</td>\n      <td>23.472570</td>\n      <td>10.0</td>\n      <td>45.000</td>\n      <td>67.000</td>\n      <td>81.000</td>\n      <td>139.000</td>\n    </tr>\n    <tr>\n      <th>Total_Ct_Chng_Q4_Q1</th>\n      <td>10127.0</td>\n      <td>0.712222</td>\n      <td>0.238086</td>\n      <td>0.0</td>\n      <td>0.582</td>\n      <td>0.702</td>\n      <td>0.818</td>\n      <td>3.714</td>\n    </tr>\n    <tr>\n      <th>Avg_Utilization_Ratio</th>\n      <td>10127.0</td>\n      <td>0.274894</td>\n      <td>0.275691</td>\n      <td>0.0</td>\n      <td>0.023</td>\n      <td>0.176</td>\n      <td>0.503</td>\n      <td>0.999</td>\n    </tr>\n  </tbody>\n</table>\n</div>"
     },
     "execution_count": 6,
     "metadata": {},
     "output_type": "execute_result"
    }
   ],
   "source": [
    "df.describe().T"
   ],
   "metadata": {
    "collapsed": false,
    "ExecuteTime": {
     "end_time": "2023-11-13T21:12:17.026040828Z",
     "start_time": "2023-11-13T21:12:16.954958246Z"
    }
   }
  },
  {
   "cell_type": "code",
   "execution_count": 7,
   "outputs": [
    {
     "name": "stdout",
     "output_type": "stream",
     "text": [
      "Attrition_Flag ['Existing Customer' 'Attrited Customer']\n",
      "Gender ['M' 'F']\n",
      "Education_Level ['High School' 'Graduate' 'Uneducated' nan 'College' 'Post-Graduate'\n",
      " 'Doctorate']\n",
      "Marital_Status ['Married' 'Single' nan 'Divorced']\n",
      "Income_Category ['$60K - $80K' 'Less than $40K' '$80K - $120K' '$40K - $60K' '$120K +'\n",
      " 'abc']\n",
      "Card_Category ['Blue' 'Gold' 'Silver' 'Platinum']\n"
     ]
    }
   ],
   "source": [
    "# for each column that is not numeric, print the column's unique values\n",
    "for col in df.select_dtypes(exclude=np.number).columns:\n",
    "    print(col, df[col].unique())"
   ],
   "metadata": {
    "collapsed": false,
    "ExecuteTime": {
     "end_time": "2023-11-13T21:12:17.114653467Z",
     "start_time": "2023-11-13T21:12:16.976835302Z"
    }
   }
  },
  {
   "cell_type": "markdown",
   "source": [
    "#### Observations so far:\n",
    "- There are 10127 rows and 20 columns in the dataset.\n",
    "- In the categorical columns, \"Attrition_Flag\" can be roughly transalted as \"Active\" and \"Inactive\" customers. Therefore, we can later make it as a binary (0 & 1) column.\n",
    "- Education Level and Marital Status have NaN, which can be treated as missing or unknown data.\n",
    "- For Income category, we need to address two things: the \"abc\" value, as well as the categories themselves. Let's first look at the \"abc\" value."
   ],
   "metadata": {
    "collapsed": false
   }
  },
  {
   "cell_type": "code",
   "execution_count": 8,
   "outputs": [
    {
     "data": {
      "text/plain": "              Attrition_Flag  Customer_Age Gender  Dependent_count  \\\nCLIENTNUM                                                            \n709327383  Existing Customer            45      F                2   \n718813833  Existing Customer            44      F                3   \n708300483  Attrited Customer            66      F                0   \n720572508  Existing Customer            38      F                4   \n711427458  Existing Customer            44      F                5   \n...                      ...           ...    ...              ...   \n711149133  Attrited Customer            30      F                1   \n714677583  Attrited Customer            50      F                3   \n718170033  Existing Customer            42      F                4   \n713437008  Attrited Customer            40      F                3   \n716893683  Attrited Customer            55      F                3   \n\n          Education_Level Marital_Status Income_Category Card_Category  \\\nCLIENTNUM                                                                \n709327383        Graduate        Married             abc          Blue   \n718813833      Uneducated         Single             abc          Blue   \n708300483       Doctorate        Married             abc          Blue   \n720572508        Graduate         Single             abc          Blue   \n711427458        Graduate        Married             abc          Blue   \n...                   ...            ...             ...           ...   \n711149133        Graduate        Married             abc          Blue   \n714677583       Doctorate         Single             abc          Blue   \n718170033      Uneducated        Married             abc          Blue   \n713437008        Graduate        Married             abc          Blue   \n716893683      Uneducated         Single             abc          Blue   \n\n           Months_on_book  Total_Relationship_Count  Months_Inactive_12_mon  \\\nCLIENTNUM                                                                     \n709327383              37                         6                       1   \n718813833              34                         5                       2   \n708300483              56                         5                       4   \n720572508              28                         2                       3   \n711427458              35                         4                       1   \n...                   ...                       ...                     ...   \n711149133              18                         4                       1   \n714677583              36                         4                       3   \n718170033              23                         4                       1   \n713437008              25                         1                       2   \n716893683              47                         4                       3   \n\n           Contacts_Count_12_mon  Credit_Limit  Total_Revolving_Bal  \\\nCLIENTNUM                                                             \n709327383                      2       14470.0                 1157   \n718813833                      2       10100.0                    0   \n708300483                      3        7882.0                  605   \n720572508                      3        9830.0                 2055   \n711427458                      2        6273.0                  978   \n...                          ...           ...                  ...   \n711149133                      4        4377.0                 2517   \n714677583                      3        5173.0                    0   \n718170033                      2        8348.0                    0   \n713437008                      3        6888.0                 1878   \n716893683                      3       14657.0                 2517   \n\n           Avg_Open_To_Buy  Total_Amt_Chng_Q4_Q1  Total_Trans_Amt  \\\nCLIENTNUM                                                           \n709327383          13313.0                 0.966             1207   \n718813833          10100.0                 0.525             1052   \n708300483           7277.0                 1.052              704   \n720572508           7775.0                 0.977             1042   \n711427458           5295.0                 2.275             1359   \n...                    ...                   ...              ...   \n711149133           1860.0                 0.941             8759   \n714677583           5173.0                 0.912             8757   \n718170033           8348.0                 0.695            15905   \n713437008           5010.0                 1.059             9038   \n716893683          12140.0                 0.166             6009   \n\n           Total_Trans_Ct  Total_Ct_Chng_Q4_Q1  Avg_Utilization_Ratio  \nCLIENTNUM                                                              \n709327383              21                0.909                  0.080  \n718813833              18                1.571                  0.000  \n708300483              16                0.143                  0.077  \n720572508              23                0.917                  0.209  \n711427458              25                1.083                  0.156  \n...                   ...                  ...                    ...  \n711149133              74                0.609                  0.575  \n714677583              68                0.789                  0.000  \n718170033             111                0.708                  0.000  \n713437008              64                0.829                  0.273  \n716893683              53                0.514                  0.172  \n\n[1112 rows x 20 columns]",
      "text/html": "<div>\n<style scoped>\n    .dataframe tbody tr th:only-of-type {\n        vertical-align: middle;\n    }\n\n    .dataframe tbody tr th {\n        vertical-align: top;\n    }\n\n    .dataframe thead th {\n        text-align: right;\n    }\n</style>\n<table border=\"1\" class=\"dataframe\">\n  <thead>\n    <tr style=\"text-align: right;\">\n      <th></th>\n      <th>Attrition_Flag</th>\n      <th>Customer_Age</th>\n      <th>Gender</th>\n      <th>Dependent_count</th>\n      <th>Education_Level</th>\n      <th>Marital_Status</th>\n      <th>Income_Category</th>\n      <th>Card_Category</th>\n      <th>Months_on_book</th>\n      <th>Total_Relationship_Count</th>\n      <th>Months_Inactive_12_mon</th>\n      <th>Contacts_Count_12_mon</th>\n      <th>Credit_Limit</th>\n      <th>Total_Revolving_Bal</th>\n      <th>Avg_Open_To_Buy</th>\n      <th>Total_Amt_Chng_Q4_Q1</th>\n      <th>Total_Trans_Amt</th>\n      <th>Total_Trans_Ct</th>\n      <th>Total_Ct_Chng_Q4_Q1</th>\n      <th>Avg_Utilization_Ratio</th>\n    </tr>\n    <tr>\n      <th>CLIENTNUM</th>\n      <th></th>\n      <th></th>\n      <th></th>\n      <th></th>\n      <th></th>\n      <th></th>\n      <th></th>\n      <th></th>\n      <th></th>\n      <th></th>\n      <th></th>\n      <th></th>\n      <th></th>\n      <th></th>\n      <th></th>\n      <th></th>\n      <th></th>\n      <th></th>\n      <th></th>\n      <th></th>\n    </tr>\n  </thead>\n  <tbody>\n    <tr>\n      <th>709327383</th>\n      <td>Existing Customer</td>\n      <td>45</td>\n      <td>F</td>\n      <td>2</td>\n      <td>Graduate</td>\n      <td>Married</td>\n      <td>abc</td>\n      <td>Blue</td>\n      <td>37</td>\n      <td>6</td>\n      <td>1</td>\n      <td>2</td>\n      <td>14470.0</td>\n      <td>1157</td>\n      <td>13313.0</td>\n      <td>0.966</td>\n      <td>1207</td>\n      <td>21</td>\n      <td>0.909</td>\n      <td>0.080</td>\n    </tr>\n    <tr>\n      <th>718813833</th>\n      <td>Existing Customer</td>\n      <td>44</td>\n      <td>F</td>\n      <td>3</td>\n      <td>Uneducated</td>\n      <td>Single</td>\n      <td>abc</td>\n      <td>Blue</td>\n      <td>34</td>\n      <td>5</td>\n      <td>2</td>\n      <td>2</td>\n      <td>10100.0</td>\n      <td>0</td>\n      <td>10100.0</td>\n      <td>0.525</td>\n      <td>1052</td>\n      <td>18</td>\n      <td>1.571</td>\n      <td>0.000</td>\n    </tr>\n    <tr>\n      <th>708300483</th>\n      <td>Attrited Customer</td>\n      <td>66</td>\n      <td>F</td>\n      <td>0</td>\n      <td>Doctorate</td>\n      <td>Married</td>\n      <td>abc</td>\n      <td>Blue</td>\n      <td>56</td>\n      <td>5</td>\n      <td>4</td>\n      <td>3</td>\n      <td>7882.0</td>\n      <td>605</td>\n      <td>7277.0</td>\n      <td>1.052</td>\n      <td>704</td>\n      <td>16</td>\n      <td>0.143</td>\n      <td>0.077</td>\n    </tr>\n    <tr>\n      <th>720572508</th>\n      <td>Existing Customer</td>\n      <td>38</td>\n      <td>F</td>\n      <td>4</td>\n      <td>Graduate</td>\n      <td>Single</td>\n      <td>abc</td>\n      <td>Blue</td>\n      <td>28</td>\n      <td>2</td>\n      <td>3</td>\n      <td>3</td>\n      <td>9830.0</td>\n      <td>2055</td>\n      <td>7775.0</td>\n      <td>0.977</td>\n      <td>1042</td>\n      <td>23</td>\n      <td>0.917</td>\n      <td>0.209</td>\n    </tr>\n    <tr>\n      <th>711427458</th>\n      <td>Existing Customer</td>\n      <td>44</td>\n      <td>F</td>\n      <td>5</td>\n      <td>Graduate</td>\n      <td>Married</td>\n      <td>abc</td>\n      <td>Blue</td>\n      <td>35</td>\n      <td>4</td>\n      <td>1</td>\n      <td>2</td>\n      <td>6273.0</td>\n      <td>978</td>\n      <td>5295.0</td>\n      <td>2.275</td>\n      <td>1359</td>\n      <td>25</td>\n      <td>1.083</td>\n      <td>0.156</td>\n    </tr>\n    <tr>\n      <th>...</th>\n      <td>...</td>\n      <td>...</td>\n      <td>...</td>\n      <td>...</td>\n      <td>...</td>\n      <td>...</td>\n      <td>...</td>\n      <td>...</td>\n      <td>...</td>\n      <td>...</td>\n      <td>...</td>\n      <td>...</td>\n      <td>...</td>\n      <td>...</td>\n      <td>...</td>\n      <td>...</td>\n      <td>...</td>\n      <td>...</td>\n      <td>...</td>\n      <td>...</td>\n    </tr>\n    <tr>\n      <th>711149133</th>\n      <td>Attrited Customer</td>\n      <td>30</td>\n      <td>F</td>\n      <td>1</td>\n      <td>Graduate</td>\n      <td>Married</td>\n      <td>abc</td>\n      <td>Blue</td>\n      <td>18</td>\n      <td>4</td>\n      <td>1</td>\n      <td>4</td>\n      <td>4377.0</td>\n      <td>2517</td>\n      <td>1860.0</td>\n      <td>0.941</td>\n      <td>8759</td>\n      <td>74</td>\n      <td>0.609</td>\n      <td>0.575</td>\n    </tr>\n    <tr>\n      <th>714677583</th>\n      <td>Attrited Customer</td>\n      <td>50</td>\n      <td>F</td>\n      <td>3</td>\n      <td>Doctorate</td>\n      <td>Single</td>\n      <td>abc</td>\n      <td>Blue</td>\n      <td>36</td>\n      <td>4</td>\n      <td>3</td>\n      <td>3</td>\n      <td>5173.0</td>\n      <td>0</td>\n      <td>5173.0</td>\n      <td>0.912</td>\n      <td>8757</td>\n      <td>68</td>\n      <td>0.789</td>\n      <td>0.000</td>\n    </tr>\n    <tr>\n      <th>718170033</th>\n      <td>Existing Customer</td>\n      <td>42</td>\n      <td>F</td>\n      <td>4</td>\n      <td>Uneducated</td>\n      <td>Married</td>\n      <td>abc</td>\n      <td>Blue</td>\n      <td>23</td>\n      <td>4</td>\n      <td>1</td>\n      <td>2</td>\n      <td>8348.0</td>\n      <td>0</td>\n      <td>8348.0</td>\n      <td>0.695</td>\n      <td>15905</td>\n      <td>111</td>\n      <td>0.708</td>\n      <td>0.000</td>\n    </tr>\n    <tr>\n      <th>713437008</th>\n      <td>Attrited Customer</td>\n      <td>40</td>\n      <td>F</td>\n      <td>3</td>\n      <td>Graduate</td>\n      <td>Married</td>\n      <td>abc</td>\n      <td>Blue</td>\n      <td>25</td>\n      <td>1</td>\n      <td>2</td>\n      <td>3</td>\n      <td>6888.0</td>\n      <td>1878</td>\n      <td>5010.0</td>\n      <td>1.059</td>\n      <td>9038</td>\n      <td>64</td>\n      <td>0.829</td>\n      <td>0.273</td>\n    </tr>\n    <tr>\n      <th>716893683</th>\n      <td>Attrited Customer</td>\n      <td>55</td>\n      <td>F</td>\n      <td>3</td>\n      <td>Uneducated</td>\n      <td>Single</td>\n      <td>abc</td>\n      <td>Blue</td>\n      <td>47</td>\n      <td>4</td>\n      <td>3</td>\n      <td>3</td>\n      <td>14657.0</td>\n      <td>2517</td>\n      <td>12140.0</td>\n      <td>0.166</td>\n      <td>6009</td>\n      <td>53</td>\n      <td>0.514</td>\n      <td>0.172</td>\n    </tr>\n  </tbody>\n</table>\n<p>1112 rows × 20 columns</p>\n</div>"
     },
     "execution_count": 8,
     "metadata": {},
     "output_type": "execute_result"
    }
   ],
   "source": [
    "df[df[\"Income_Category\"] == 'abc']"
   ],
   "metadata": {
    "collapsed": false,
    "ExecuteTime": {
     "end_time": "2023-11-13T21:12:17.115304807Z",
     "start_time": "2023-11-13T21:12:17.018768354Z"
    }
   }
  },
  {
   "cell_type": "markdown",
   "source": [
    "Looks like many of them are with Blue card. Let's sanity-check byh grouping the count by card category."
   ],
   "metadata": {
    "collapsed": false
   }
  },
  {
   "cell_type": "code",
   "execution_count": 9,
   "outputs": [
    {
     "data": {
      "text/plain": "Card_Category  Income_Category\nBlue           abc                1045\nGold           abc                   9\nPlatinum       abc                   5\nSilver         abc                  53\nName: Income_Category, dtype: int64"
     },
     "execution_count": 9,
     "metadata": {},
     "output_type": "execute_result"
    }
   ],
   "source": [
    "df[df[\"Income_Category\"] == 'abc'].groupby(\"Card_Category\")[\"Income_Category\"].value_counts()"
   ],
   "metadata": {
    "collapsed": false,
    "ExecuteTime": {
     "end_time": "2023-11-13T21:12:17.115547831Z",
     "start_time": "2023-11-13T21:12:17.018986717Z"
    }
   }
  },
  {
   "cell_type": "markdown",
   "source": [
    "Many of the income category that's \"abc\" are Blue card. Since blue card is the most basic tier (lowest tier), it seems like it would be the card that is issued with the least restrictions. In this case, perhaps the income was not gathered at the time of issue if credit score is good enough. Therefore, we can treat \"abc\" as \"Unknown\".\n",
    "\n",
    "Let us be cautious and check Blue card's income category distribution."
   ],
   "metadata": {
    "collapsed": false
   }
  },
  {
   "cell_type": "code",
   "execution_count": 10,
   "outputs": [
    {
     "data": {
      "text/plain": "Income_Category  Card_Category\n$120K +          Blue              645\n$40K - $60K      Blue             1675\n$60K - $80K      Blue             1273\n$80K - $120K     Blue             1395\nLess than $40K   Blue             3403\nabc              Blue             1045\nName: Card_Category, dtype: int64"
     },
     "execution_count": 10,
     "metadata": {},
     "output_type": "execute_result"
    }
   ],
   "source": [
    "df[df[\"Card_Category\"] == 'Blue'].groupby(\"Income_Category\")[\"Card_Category\"].value_counts()"
   ],
   "metadata": {
    "collapsed": false,
    "ExecuteTime": {
     "end_time": "2023-11-13T21:12:17.115799625Z",
     "start_time": "2023-11-13T21:12:17.019067138Z"
    }
   }
  },
  {
   "cell_type": "markdown",
   "source": [
    "1045/10127 = 10.3% of the Blue card's income category is \"abc\". This is a significant portion, so we cannot simply drop the rows with \"abc\" income category. We will treat \"abc\" as \"Unknown\" for now."
   ],
   "metadata": {
    "collapsed": false
   }
  },
  {
   "cell_type": "markdown",
   "source": [
    "Onto the second point: since the income category is ordinal, we can simply replace the categories with numbers. We may need a few experiments to do that. For now, let's replace it with median income for each category. Meaning:\n",
    "\n",
    "* abc: NaN\n",
    "* Less than $40K: 20K\n",
    "* $40K - $60K: 50K\n",
    "* $60K - $80K: 70K\n",
    "* $80K - $120K: 100K\n",
    "* $120K +: 120K"
   ],
   "metadata": {
    "collapsed": false
   }
  },
  {
   "cell_type": "code",
   "execution_count": 11,
   "outputs": [
    {
     "name": "stdout",
     "output_type": "stream",
     "text": [
      "<class 'pandas.core.frame.DataFrame'>\n",
      "Int64Index: 10127 entries, 768805383 to 714337233\n",
      "Data columns (total 21 columns):\n",
      " #   Column                    Non-Null Count  Dtype  \n",
      "---  ------                    --------------  -----  \n",
      " 0   Attrition_Flag            10127 non-null  object \n",
      " 1   Customer_Age              10127 non-null  int64  \n",
      " 2   Gender                    10127 non-null  object \n",
      " 3   Dependent_count           10127 non-null  int64  \n",
      " 4   Education_Level           8608 non-null   object \n",
      " 5   Marital_Status            9378 non-null   object \n",
      " 6   Income_Category           10127 non-null  object \n",
      " 7   Card_Category             10127 non-null  object \n",
      " 8   Months_on_book            10127 non-null  int64  \n",
      " 9   Total_Relationship_Count  10127 non-null  int64  \n",
      " 10  Months_Inactive_12_mon    10127 non-null  int64  \n",
      " 11  Contacts_Count_12_mon     10127 non-null  int64  \n",
      " 12  Credit_Limit              10127 non-null  float64\n",
      " 13  Total_Revolving_Bal       10127 non-null  int64  \n",
      " 14  Avg_Open_To_Buy           10127 non-null  float64\n",
      " 15  Total_Amt_Chng_Q4_Q1      10127 non-null  float64\n",
      " 16  Total_Trans_Amt           10127 non-null  int64  \n",
      " 17  Total_Trans_Ct            10127 non-null  int64  \n",
      " 18  Total_Ct_Chng_Q4_Q1       10127 non-null  float64\n",
      " 19  Avg_Utilization_Ratio     10127 non-null  float64\n",
      " 20  Income                    9015 non-null   float64\n",
      "dtypes: float64(6), int64(9), object(6)\n",
      "memory usage: 1.7+ MB\n"
     ]
    }
   ],
   "source": [
    "df[\"Income\"] = df[\"Income_Category\"].replace(\n",
    "    {\n",
    "        \"abc\": np.nan,\n",
    "        \"Less than $40K\": 20000,\n",
    "        \"$40K - $60K\": 50000,\n",
    "        \"$60K - $80K\": 70000,\n",
    "        \"$80K - $120K\": 100000,\n",
    "        \"$120K +\": 120000,\n",
    "    }\n",
    ").astype(float)\n",
    "\n",
    "df.info()"
   ],
   "metadata": {
    "collapsed": false,
    "ExecuteTime": {
     "end_time": "2023-11-13T21:12:20.344721583Z",
     "start_time": "2023-11-13T21:12:20.321108900Z"
    }
   }
  },
  {
   "cell_type": "markdown",
   "source": [
    "We will deal with the NaN values after EDA."
   ],
   "metadata": {
    "collapsed": false
   }
  },
  {
   "cell_type": "markdown",
   "metadata": {
    "id": "j-yGG8LNSSMa"
   },
   "source": [
    "## Exploratory Data Analysis (EDA)"
   ]
  },
  {
   "cell_type": "markdown",
   "metadata": {
    "id": "3bGVKmh75ri8"
   },
   "source": [
    "- EDA is an important part of any project involving data.\n",
    "- It is important to investigate and understand the data better before building a model with it.\n",
    "- A few questions have been mentioned below which will help you approach the analysis in the right manner and generate insights from the data.\n",
    "- A thorough analysis of the data, in addition to the questions mentioned below, should be done."
   ]
  },
  {
   "cell_type": "code",
   "execution_count": null,
   "outputs": [],
   "source": [
    "profile = ydp.ProfileReport(df)\n",
    "profile.to_notebook_iframe()"
   ],
   "metadata": {
    "collapsed": false
   }
  },
  {
   "cell_type": "markdown",
   "metadata": {
    "id": "oEyqzdJBb0jU"
   },
   "source": [
    "**Questions**:\n",
    "\n",
    "1. How is the total transaction amount distributed?\n",
    "2. What is the distribution of the level of education of customers?\n",
    "3. What is the distribution of the level of income of customers?\n",
    "4. How does the change in transaction amount between Q4 and Q1 (`total_ct_change_Q4_Q1`) vary by the customer's account status (`Attrition_Flag`)?\n",
    "5. How does the number of months a customer was inactive in the last 12 months (`Months_Inactive_12_mon`) vary by the customer's account status (`Attrition_Flag`)?\n",
    "6. What are the attributes that have a strong correlation with each other?\n",
    "\n"
   ]
  },
  {
   "cell_type": "markdown",
   "metadata": {
    "id": "-YyWJgFlKlWM"
   },
   "source": [
    "#### The below functions need to be defined to carry out the Exploratory Data Analysis."
   ]
  },
  {
   "cell_type": "code",
   "execution_count": 7,
   "metadata": {
    "id": "QIP4bI3Zbp07",
    "ExecuteTime": {
     "end_time": "2023-11-13T18:20:10.547100216Z",
     "start_time": "2023-11-13T18:20:10.503497185Z"
    }
   },
   "outputs": [],
   "source": [
    "# function to plot a boxplot and a histogram along the same scale.\n",
    "\n",
    "\n",
    "def histogram_boxplot(data, feature, figsize=(12, 7), kde=False, bins=None):\n",
    "    \"\"\"\n",
    "    Boxplot and histogram combined\n",
    "\n",
    "    data: dataframe\n",
    "    feature: dataframe column\n",
    "    figsize: size of figure (default (12,7))\n",
    "    kde: whether to the show density curve (default False)\n",
    "    bins: number of bins for histogram (default None)\n",
    "    \"\"\"\n",
    "    f2, (ax_box2, ax_hist2) = plt.subplots(\n",
    "        nrows=2,  # Number of rows of the subplot grid= 2\n",
    "        sharex=True,  # x-axis will be shared among all subplots\n",
    "        gridspec_kw={\"height_ratios\": (0.25, 0.75)},\n",
    "        figsize=figsize,\n",
    "    )  # creating the 2 subplots\n",
    "    sns.boxplot(\n",
    "        data=data, x=feature, ax=ax_box2, showmeans=True, color=\"violet\"\n",
    "    )  # boxplot will be created and a triangle will indicate the mean value of the column\n",
    "    sns.histplot(\n",
    "        data=data, x=feature, kde=kde, ax=ax_hist2, bins=bins, palette=\"winter\"\n",
    "    ) if bins else sns.histplot(\n",
    "        data=data, x=feature, kde=kde, ax=ax_hist2\n",
    "    )  # For histogram\n",
    "    ax_hist2.axvline(\n",
    "        data[feature].mean(), color=\"green\", linestyle=\"--\"\n",
    "    )  # Add mean to the histogram\n",
    "    ax_hist2.axvline(\n",
    "        data[feature].median(), color=\"black\", linestyle=\"-\"\n",
    "    )  # Add median to the histogram"
   ]
  },
  {
   "cell_type": "code",
   "execution_count": 8,
   "metadata": {
    "id": "5021de33",
    "ExecuteTime": {
     "end_time": "2023-11-13T18:20:12.541710360Z",
     "start_time": "2023-11-13T18:20:12.538318067Z"
    }
   },
   "outputs": [],
   "source": [
    "# function to create labeled barplots\n",
    "\n",
    "\n",
    "def labeled_barplot(data, feature, perc=False, n=None):\n",
    "    \"\"\"\n",
    "    Barplot with percentage at the top\n",
    "\n",
    "    data: dataframe\n",
    "    feature: dataframe column\n",
    "    perc: whether to display percentages instead of count (default is False)\n",
    "    n: displays the top n category levels (default is None, i.e., display all levels)\n",
    "    \"\"\"\n",
    "\n",
    "    total = len(data[feature])  # length of the column\n",
    "    count = data[feature].nunique()\n",
    "    if n is None:\n",
    "        plt.figure(figsize=(count + 1, 5))\n",
    "    else:\n",
    "        plt.figure(figsize=(n + 1, 5))\n",
    "\n",
    "    plt.xticks(rotation=90, fontsize=15)\n",
    "    ax = sns.countplot(\n",
    "        data=data,\n",
    "        x=feature,\n",
    "        palette=\"Paired\",\n",
    "        order=data[feature].value_counts().index[:n].sort_values(),\n",
    "    )\n",
    "\n",
    "    for p in ax.patches:\n",
    "        if perc == True:\n",
    "            label = \"{:.1f}%\".format(\n",
    "                100 * p.get_height() / total\n",
    "            )  # percentage of each class of the category\n",
    "        else:\n",
    "            label = p.get_height()  # count of each level of the category\n",
    "\n",
    "        x = p.get_x() + p.get_width() / 2  # width of the plot\n",
    "        y = p.get_height()  # height of the plot\n",
    "\n",
    "        ax.annotate(\n",
    "            label,\n",
    "            (x, y),\n",
    "            ha=\"center\",\n",
    "            va=\"center\",\n",
    "            size=12,\n",
    "            xytext=(0, 5),\n",
    "            textcoords=\"offset points\",\n",
    "        )  # annotate the percentage\n",
    "\n",
    "    plt.show()  # show the plot"
   ]
  },
  {
   "cell_type": "code",
   "execution_count": 9,
   "metadata": {
    "id": "c08fe5b8",
    "ExecuteTime": {
     "end_time": "2023-11-13T18:20:15.709729078Z",
     "start_time": "2023-11-13T18:20:15.705297698Z"
    }
   },
   "outputs": [],
   "source": [
    "# function to plot stacked bar chart\n",
    "\n",
    "def stacked_barplot(data, predictor, target):\n",
    "    \"\"\"\n",
    "    Print the category counts and plot a stacked bar chart\n",
    "\n",
    "    data: dataframe\n",
    "    predictor: independent variable\n",
    "    target: target variable\n",
    "    \"\"\"\n",
    "    count = data[predictor].nunique()\n",
    "    sorter = data[target].value_counts().index[-1]\n",
    "    tab1 = pd.crosstab(data[predictor], data[target], margins=True).sort_values(\n",
    "        by=sorter, ascending=False\n",
    "    )\n",
    "    print(tab1)\n",
    "    print(\"-\" * 120)\n",
    "    tab = pd.crosstab(data[predictor], data[target], normalize=\"index\").sort_values(\n",
    "        by=sorter, ascending=False\n",
    "    )\n",
    "    tab.plot(kind=\"bar\", stacked=True, figsize=(count + 1, 5))\n",
    "    plt.legend(\n",
    "        loc=\"lower left\", frameon=False,\n",
    "    )\n",
    "    plt.legend(loc=\"upper left\", bbox_to_anchor=(1, 1))\n",
    "    plt.show()"
   ]
  },
  {
   "cell_type": "code",
   "execution_count": 10,
   "metadata": {
    "id": "e90985c5",
    "ExecuteTime": {
     "end_time": "2023-11-13T18:20:18.439026206Z",
     "start_time": "2023-11-13T18:20:18.395549748Z"
    }
   },
   "outputs": [],
   "source": [
    "### Function to plot distributions\n",
    "\n",
    "def distribution_plot_wrt_target(data, predictor, target):\n",
    "\n",
    "    fig, axs = plt.subplots(2, 2, figsize=(12, 10))\n",
    "\n",
    "    target_uniq = data[target].unique()\n",
    "\n",
    "    axs[0, 0].set_title(\"Distribution of target for target=\" + str(target_uniq[0]))\n",
    "    sns.histplot(\n",
    "        data=data[data[target] == target_uniq[0]],\n",
    "        x=predictor,\n",
    "        kde=True,\n",
    "        ax=axs[0, 0],\n",
    "        color=\"teal\",\n",
    "    )\n",
    "\n",
    "    axs[0, 1].set_title(\"Distribution of target for target=\" + str(target_uniq[1]))\n",
    "    sns.histplot(\n",
    "        data=data[data[target] == target_uniq[1]],\n",
    "        x=predictor,\n",
    "        kde=True,\n",
    "        ax=axs[0, 1],\n",
    "        color=\"orange\",\n",
    "    )\n",
    "\n",
    "    axs[1, 0].set_title(\"Boxplot w.r.t target\")\n",
    "    sns.boxplot(data=data, x=target, y=predictor, ax=axs[1, 0], palette=\"gist_rainbow\")\n",
    "\n",
    "    axs[1, 1].set_title(\"Boxplot (without outliers) w.r.t target\")\n",
    "    sns.boxplot(\n",
    "        data=data,\n",
    "        x=target,\n",
    "        y=predictor,\n",
    "        ax=axs[1, 1],\n",
    "        showfliers=False,\n",
    "        palette=\"gist_rainbow\",\n",
    "    )\n",
    "\n",
    "    plt.tight_layout()\n",
    "    plt.show()"
   ]
  },
  {
   "cell_type": "markdown",
   "metadata": {
    "id": "knk0w9XH4jao"
   },
   "source": [
    "## Data Pre-processing"
   ]
  },
  {
   "cell_type": "code",
   "execution_count": null,
   "metadata": {
    "id": "2JbJc1bX4jao"
   },
   "outputs": [],
   "source": []
  },
  {
   "cell_type": "markdown",
   "metadata": {
    "id": "0J99-7Kubp09"
   },
   "source": [
    "## Missing value imputation\n",
    "\n",
    "\n"
   ]
  },
  {
   "cell_type": "code",
   "execution_count": null,
   "metadata": {
    "id": "hke9uYOfBqoQ"
   },
   "outputs": [],
   "source": []
  },
  {
   "cell_type": "markdown",
   "metadata": {
    "id": "OzOa9FGA6WtG"
   },
   "source": [
    "## Model Building"
   ]
  },
  {
   "cell_type": "markdown",
   "metadata": {
    "id": "YZqmoqz7bp0-"
   },
   "source": [
    "### Model evaluation criterion"
   ]
  },
  {
   "cell_type": "markdown",
   "metadata": {
    "id": "l2ORUgmUjDZC"
   },
   "source": [
    "The nature of predictions made by the classification model will translate as follows:\n",
    "\n",
    "- True positives (TP) are failures correctly predicted by the model.\n",
    "- False negatives (FN) are real failures in a generator where there is no detection by model.\n",
    "- False positives (FP) are failure detections in a generator where there is no failure.\n",
    "\n",
    "**Which metric to optimize?**\n",
    "\n",
    "* We need to choose the metric which will ensure that the maximum number of generator failures are predicted correctly by the model.\n",
    "* We would want Recall to be maximized as greater the Recall, the higher the chances of minimizing false negatives.\n",
    "* We want to minimize false negatives because if a model predicts that a machine will have no failure when there will be a failure, it will increase the maintenance cost."
   ]
  },
  {
   "cell_type": "markdown",
   "metadata": {
    "id": "djQTqGKU4jap"
   },
   "source": [
    "**Let's define a function to output different metrics (including recall) on the train and test set and a function to show confusion matrix so that we do not have to use the same code repetitively while evaluating models.**"
   ]
  },
  {
   "cell_type": "code",
   "execution_count": null,
   "metadata": {
    "id": "bIekBxwp4jaq"
   },
   "outputs": [],
   "source": [
    "# defining a function to compute different metrics to check performance of a classification model built using sklearn\n",
    "def model_performance_classification_sklearn(model, predictors, target):\n",
    "    \"\"\"\n",
    "    Function to compute different metrics to check classification model performance\n",
    "\n",
    "    model: classifier\n",
    "    predictors: independent variables\n",
    "    target: dependent variable\n",
    "    \"\"\"\n",
    "\n",
    "    # predicting using the independent variables\n",
    "    pred = model.predict(predictors)\n",
    "\n",
    "    acc = accuracy_score(target, pred)  # to compute Accuracy\n",
    "    recall = recall_score(target, pred)  # to compute Recall\n",
    "    precision = precision_score(target, pred)  # to compute Precision\n",
    "    f1 = f1_score(target, pred)  # to compute F1-score\n",
    "\n",
    "    # creating a dataframe of metrics\n",
    "    df_perf = pd.DataFrame(\n",
    "        {\n",
    "            \"Accuracy\": acc,\n",
    "            \"Recall\": recall,\n",
    "            \"Precision\": precision,\n",
    "            \"F1\": f1\n",
    "\n",
    "        },\n",
    "        index=[0],\n",
    "    )\n",
    "\n",
    "    return df_perf"
   ]
  },
  {
   "cell_type": "markdown",
   "metadata": {
    "id": "eqCDCbcw4jas"
   },
   "source": [
    "### Model Building with original data"
   ]
  },
  {
   "cell_type": "markdown",
   "metadata": {
    "id": "dBtuhurlhKyp"
   },
   "source": [
    "Sample code for model building with original data"
   ]
  },
  {
   "cell_type": "code",
   "execution_count": null,
   "metadata": {
    "id": "V-tpzI7g4jas"
   },
   "outputs": [],
   "source": [
    "models = []  # Empty list to store all the models\n",
    "\n",
    "# Appending models into the list\n",
    "models.append((\"Bagging\", BaggingClassifier(random_state=1)))\n",
    "models.append((\"Random forest\", RandomForestClassifier(random_state=1)))\n",
    "'_______' ## Complete the code to append remaining 3 models in the list models\n",
    "\n",
    "print(\"\\n\" \"Training Performance:\" \"\\n\")\n",
    "for name, model in models:\n",
    "    model.fit(X_train, y_train)\n",
    "    scores = recall_score(y_train, model.predict(X_train))\n",
    "    print(\"{}: {}\".format(name, scores))\n",
    "\n",
    "print(\"\\n\" \"Validation Performance:\" \"\\n\")\n",
    "\n",
    "for name, model in models:\n",
    "    model.fit(X_train, y_train)\n",
    "    scores_val = recall_score(y_val, model.predict(X_val))\n",
    "    print(\"{}: {}\".format(name, scores_val))"
   ]
  },
  {
   "cell_type": "markdown",
   "metadata": {
    "id": "oBKJaFU24jas"
   },
   "source": [
    "### Model Building with Oversampled data\n"
   ]
  },
  {
   "cell_type": "code",
   "execution_count": null,
   "metadata": {
    "id": "FKxnygkE4jat"
   },
   "outputs": [],
   "source": [
    "# Synthetic Minority Over Sampling Technique\n",
    "sm = SMOTE(sampling_strategy=1, k_neighbors=5, random_state=1)\n",
    "X_train_over, y_train_over = sm.fit_resample(X_train, y_train)"
   ]
  },
  {
   "cell_type": "code",
   "execution_count": null,
   "metadata": {
    "id": "uYDlbnUO4jat"
   },
   "outputs": [],
   "source": []
  },
  {
   "cell_type": "markdown",
   "metadata": {
    "id": "1aimb6bn4jat"
   },
   "source": [
    "### Model Building with Undersampled data"
   ]
  },
  {
   "cell_type": "code",
   "execution_count": null,
   "metadata": {
    "id": "DhxfTkvu4jat"
   },
   "outputs": [],
   "source": [
    "# Random undersampler for under sampling the data\n",
    "rus = RandomUnderSampler(random_state=1, sampling_strategy=1)\n",
    "X_train_un, y_train_un = rus.fit_resample(X_train, y_train)"
   ]
  },
  {
   "cell_type": "code",
   "execution_count": null,
   "metadata": {
    "id": "jROP_DVF4jau"
   },
   "outputs": [],
   "source": []
  },
  {
   "cell_type": "markdown",
   "metadata": {
    "id": "yZGY1eL84jau"
   },
   "source": [
    "### HyperparameterTuning"
   ]
  },
  {
   "cell_type": "markdown",
   "metadata": {
    "id": "rxM3jQuK_Pqc"
   },
   "source": [
    "#### Sample Parameter Grids"
   ]
  },
  {
   "cell_type": "markdown",
   "source": [
    "**Note**\n",
    "\n",
    "1. Sample parameter grids have been provided to do necessary hyperparameter tuning. These sample grids are expected to provide a balance between model performance improvement and execution time. One can extend/reduce the parameter grid based on execution time and system configuration.\n",
    "  - Please note that if the parameter grid is extended to improve the model performance further, the execution time will increase\n"
   ],
   "metadata": {
    "id": "MSSmdBoHDJwO"
   }
  },
  {
   "cell_type": "markdown",
   "metadata": {
    "id": "czq7BZ5b4jau"
   },
   "source": [
    "- For Gradient Boosting:\n",
    "\n",
    "```\n",
    "param_grid = {\n",
    "    \"init\": [AdaBoostClassifier(random_state=1),DecisionTreeClassifier(random_state=1)],\n",
    "    \"n_estimators\": np.arange(50,110,25),\n",
    "    \"learning_rate\": [0.01,0.1,0.05],\n",
    "    \"subsample\":[0.7,0.9],\n",
    "    \"max_features\":[0.5,0.7,1],\n",
    "}\n",
    "```\n",
    "\n",
    "- For Adaboost:\n",
    "\n",
    "```\n",
    "param_grid = {\n",
    "    \"n_estimators\": np.arange(50,110,25),\n",
    "    \"learning_rate\": [0.01,0.1,0.05],\n",
    "    \"base_estimator\": [\n",
    "        DecisionTreeClassifier(max_depth=2, random_state=1),\n",
    "        DecisionTreeClassifier(max_depth=3, random_state=1),\n",
    "    ],\n",
    "}\n",
    "```\n",
    "\n",
    "- For Bagging Classifier:\n",
    "\n",
    "```\n",
    "param_grid = {\n",
    "    'max_samples': [0.8,0.9,1],\n",
    "    'max_features': [0.7,0.8,0.9],\n",
    "    'n_estimators' : [30,50,70],\n",
    "}\n",
    "```\n",
    "- For Random Forest:\n",
    "\n",
    "```\n",
    "param_grid = {\n",
    "    \"n_estimators\": [50,110,25],\n",
    "    \"min_samples_leaf\": np.arange(1, 4),\n",
    "    \"max_features\": [np.arange(0.3, 0.6, 0.1),'sqrt'],\n",
    "    \"max_samples\": np.arange(0.4, 0.7, 0.1)\n",
    "}\n",
    "```\n",
    "\n",
    "- For Decision Trees:\n",
    "\n",
    "```\n",
    "param_grid = {\n",
    "    'max_depth': np.arange(2,6),\n",
    "    'min_samples_leaf': [1, 4, 7],\n",
    "    'max_leaf_nodes' : [10, 15],\n",
    "    'min_impurity_decrease': [0.0001,0.001]\n",
    "}\n",
    "```\n",
    "\n",
    "- For XGBoost (optional):\n",
    "\n",
    "```\n",
    "param_grid={'n_estimators':np.arange(50,110,25),\n",
    "            'scale_pos_weight':[1,2,5],\n",
    "            'learning_rate':[0.01,0.1,0.05],\n",
    "            'gamma':[1,3],\n",
    "            'subsample':[0.7,0.9]\n",
    "}\n",
    "```"
   ]
  },
  {
   "cell_type": "markdown",
   "metadata": {
    "id": "GMReRXdH_YUd"
   },
   "source": [
    "#### Sample tuning method for Decision tree with original data"
   ]
  },
  {
   "cell_type": "code",
   "execution_count": null,
   "metadata": {
    "id": "o9kks1hG_Xhy"
   },
   "outputs": [],
   "source": [
    "# defining model\n",
    "Model = DecisionTreeClassifier(random_state=1)\n",
    "\n",
    "# Parameter grid to pass in RandomSearchCV\n",
    "param_grid = {'max_depth': np.arange(2,6),\n",
    "              'min_samples_leaf': [1, 4, 7],\n",
    "              'max_leaf_nodes' : [10,15],\n",
    "              'min_impurity_decrease': [0.0001,0.001] }\n",
    "\n",
    "#Calling RandomizedSearchCV\n",
    "randomized_cv = RandomizedSearchCV(estimator=Model, param_distributions=param_grid, n_iter=10, n_jobs = -1, scoring=scorer, cv=5, random_state=1)\n",
    "\n",
    "#Fitting parameters in RandomizedSearchCV\n",
    "randomized_cv.fit(X_train,y_train)\n",
    "\n",
    "print(\"Best parameters are {} with CV score={}:\" .format(randomized_cv.best_params_,randomized_cv.best_score_))"
   ]
  },
  {
   "cell_type": "markdown",
   "metadata": {
    "id": "chN8hbfThKyr"
   },
   "source": [
    "#### Sample tuning method for Decision tree with oversampled data"
   ]
  },
  {
   "cell_type": "code",
   "execution_count": null,
   "metadata": {
    "id": "tVZcJ0hv4jau"
   },
   "outputs": [],
   "source": [
    "# defining model\n",
    "Model = DecisionTreeClassifier(random_state=1)\n",
    "\n",
    "# Parameter grid to pass in RandomSearchCV\n",
    "param_grid = {'max_depth': np.arange(2,6),\n",
    "              'min_samples_leaf': [1, 4, 7],\n",
    "              'max_leaf_nodes' : [10,15],\n",
    "              'min_impurity_decrease': [0.0001,0.001] }\n",
    "\n",
    "#Calling RandomizedSearchCV\n",
    "randomized_cv = RandomizedSearchCV(estimator=Model, param_distributions=param_grid, n_iter=10, n_jobs = -1, scoring=scorer, cv=5, random_state=1)\n",
    "\n",
    "#Fitting parameters in RandomizedSearchCV\n",
    "randomized_cv.fit(X_train_over,y_train_over)\n",
    "\n",
    "print(\"Best parameters are {} with CV score={}:\" .format(randomized_cv.best_params_,randomized_cv.best_score_))"
   ]
  },
  {
   "cell_type": "markdown",
   "metadata": {
    "id": "HtPIiIS7hKyr"
   },
   "source": [
    "#### Sample tuning method for Decision tree with undersampled data"
   ]
  },
  {
   "cell_type": "code",
   "execution_count": null,
   "metadata": {
    "id": "5pbdykhHhKyr"
   },
   "outputs": [],
   "source": [
    "# defining model\n",
    "Model = DecisionTreeClassifier(random_state=1)\n",
    "\n",
    "# Parameter grid to pass in RandomSearchCV\n",
    "param_grid = {'max_depth': np.arange(2,6),\n",
    "              'min_samples_leaf': [1, 4, 7],\n",
    "              'max_leaf_nodes' : [10,15],\n",
    "              'min_impurity_decrease': [0.0001,0.001] }\n",
    "\n",
    "#Calling RandomizedSearchCV\n",
    "randomized_cv = RandomizedSearchCV(estimator=Model, param_distributions=param_grid, n_iter=10, n_jobs = -1, scoring=scorer, cv=5, random_state=1)\n",
    "\n",
    "#Fitting parameters in RandomizedSearchCV\n",
    "randomized_cv.fit(X_train_un,y_train_un)\n",
    "\n",
    "print(\"Best parameters are {} with CV score={}:\" .format(randomized_cv.best_params_,randomized_cv.best_score_))"
   ]
  },
  {
   "cell_type": "markdown",
   "metadata": {
    "id": "D9JNnpxa4jau"
   },
   "source": [
    "## Model Comparison and Final Model Selection"
   ]
  },
  {
   "cell_type": "code",
   "execution_count": null,
   "metadata": {
    "id": "0JG85rkY4jav"
   },
   "outputs": [],
   "source": []
  },
  {
   "cell_type": "markdown",
   "metadata": {
    "id": "d_pDMFAz4jav"
   },
   "source": [
    "### Test set final performance"
   ]
  },
  {
   "cell_type": "code",
   "execution_count": null,
   "metadata": {
    "id": "g8-epsXv4jav"
   },
   "outputs": [],
   "source": []
  },
  {
   "cell_type": "markdown",
   "metadata": {
    "id": "c5hPmHyR4jaw"
   },
   "source": [
    "# Business Insights and Conclusions"
   ]
  },
  {
   "cell_type": "markdown",
   "metadata": {
    "id": "VB3eO21n_sgt"
   },
   "source": [
    "***"
   ]
  }
 ],
 "metadata": {
  "colab": {
   "collapsed_sections": [
    "9EaJ8AGwpM-2",
    "v_-uuGqH-qTt",
    "xxhpZv9y-qTw",
    "UvpMDcaaMKtI",
    "j-yGG8LNSSMa",
    "-YyWJgFlKlWM",
    "knk0w9XH4jao",
    "0J99-7Kubp09",
    "YZqmoqz7bp0-",
    "eqCDCbcw4jas",
    "oBKJaFU24jas",
    "1aimb6bn4jat",
    "yZGY1eL84jau",
    "rxM3jQuK_Pqc",
    "GMReRXdH_YUd",
    "chN8hbfThKyr",
    "HtPIiIS7hKyr",
    "D9JNnpxa4jau",
    "d_pDMFAz4jav",
    "c5hPmHyR4jaw"
   ],
   "provenance": []
  },
  "kernelspec": {
   "display_name": "Python 3",
   "language": "python",
   "name": "python3"
  },
  "language_info": {
   "codemirror_mode": {
    "name": "ipython",
    "version": 3
   },
   "file_extension": ".py",
   "mimetype": "text/x-python",
   "name": "python",
   "nbconvert_exporter": "python",
   "pygments_lexer": "ipython3",
   "version": "3.8.8"
  }
 },
 "nbformat": 4,
 "nbformat_minor": 0
}
