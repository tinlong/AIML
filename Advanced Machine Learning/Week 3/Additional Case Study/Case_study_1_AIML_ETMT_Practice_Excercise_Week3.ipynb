version https://git-lfs.github.com/spec/v1
oid sha256:6977ac440d6a22d61392da1bd2eb1464552afa177b53c11f15770f8c0ee38dbd
size 1428506
