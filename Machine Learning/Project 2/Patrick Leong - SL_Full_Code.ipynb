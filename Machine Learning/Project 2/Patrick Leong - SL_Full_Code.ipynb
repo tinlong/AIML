{
 "cells": [
  {
   "cell_type": "markdown",
   "metadata": {
    "id": "GQ4inoGOw_su"
   },
   "source": [
    "# Supervised Learning Classification Project: AllLife Bank Personal Loan Campaign"
   ]
  },
  {
   "cell_type": "markdown",
   "metadata": {
    "id": "dHp26RRERvXx"
   },
   "source": [
    "## Problem Statement"
   ]
  },
  {
   "cell_type": "markdown",
   "metadata": {
    "id": "m5MpauhvxIh6"
   },
   "source": [
    "### Context\n",
    "\n",
    "AllLife Bank is a US bank that has a growing customer base. The majority of these customers are liability customers (depositors) with varying sizes of deposits. The number of customers who are also borrowers (asset customers) is quite small, and the bank is interested in expanding this base rapidly to bring in more loan business and in the process, earn more through the interest on loans. In particular, the management wants to explore ways of converting its liability customers to personal loan customers (while retaining them as depositors).\n",
    "\n",
    "A campaign that the bank ran last year for liability customers showed a healthy conversion rate of over 9% success. This has encouraged the retail marketing department to devise campaigns with better target marketing to increase the success ratio.\n",
    "\n",
    "You as a Data scientist at AllLife bank have to build a model that will help the marketing department to identify the potential customers who have a higher probability of purchasing the loan."
   ]
  },
  {
   "cell_type": "markdown",
   "metadata": {
    "id": "s4T59mPjxMmc"
   },
   "source": [
    "### Objective\n",
    "\n",
    "To predict whether a liability customer will buy personal loans, to understand which customer attributes are most significant in driving purchases, and identify which segment of customers to target more."
   ]
  },
  {
   "cell_type": "markdown",
   "metadata": {
    "id": "FN8fKs4_xPLS"
   },
   "source": [
    "### Data Dictionary\n",
    "* `ID`: Customer ID\n",
    "* `Age`: Customer’s age in completed years\n",
    "* `Experience`: #years of professional experience\n",
    "* `Income`: Annual income of the customer (in thousand dollars)\n",
    "* `ZIP Code`: Home Address ZIP code.\n",
    "* `Family`: the Family size of the customer\n",
    "* `CCAvg`: Average spending on credit cards per month (in thousand dollars)\n",
    "* `Education`: Education Level. 1: Undergrad; 2: Graduate;3: Advanced/Professional\n",
    "* `Mortgage`: Value of house mortgage if any. (in thousand dollars)\n",
    "* `Personal_Loan`: Did this customer accept the personal loan offered in the last campaign? (0: No, 1: Yes)\n",
    "* `Securities_Account`: Does the customer have securities account with the bank? (0: No, 1: Yes)\n",
    "* `CD_Account`: Does the customer have a certificate of deposit (CD) account with the bank? (0: No, 1: Yes)\n",
    "* `Online`: Do customers use internet banking facilities? (0: No, 1: Yes)\n",
    "* `CreditCard`: Does the customer use a credit card issued by any other Bank (excluding All life Bank)? (0: No, 1: Yes)"
   ]
  },
  {
   "cell_type": "markdown",
   "metadata": {
    "id": "CP-77n_lxyBt"
   },
   "source": [
    "## Importing necessary libraries"
   ]
  },
  {
   "cell_type": "code",
   "execution_count": 1,
   "metadata": {
    "id": "O36RnISpw679",
    "ExecuteTime": {
     "end_time": "2023-10-11T19:54:20.538455600Z",
     "start_time": "2023-10-11T19:54:20.536449500Z"
    }
   },
   "outputs": [],
   "source": [
    "import pandas as pd\n",
    "import numpy as np\n",
    "\n",
    "import matplotlib.pyplot as plt\n",
    "import seaborn as sns"
   ]
  },
  {
   "cell_type": "markdown",
   "metadata": {
    "id": "D0cilOy9yeK7"
   },
   "source": [
    "## Loading the dataset"
   ]
  },
  {
   "cell_type": "code",
   "execution_count": 2,
   "metadata": {
    "id": "veW9EM12yd5M",
    "ExecuteTime": {
     "end_time": "2023-10-11T19:54:34.189521100Z",
     "start_time": "2023-10-11T19:54:34.151896600Z"
    }
   },
   "outputs": [
    {
     "data": {
      "text/plain": "   ID  Age  Experience  Income  ZIPCode  Family  CCAvg  Education  Mortgage  \\\n0   1   25           1      49    91107       4    1.6          1         0   \n1   2   45          19      34    90089       3    1.5          1         0   \n2   3   39          15      11    94720       1    1.0          1         0   \n3   4   35           9     100    94112       1    2.7          2         0   \n4   5   35           8      45    91330       4    1.0          2         0   \n\n   Personal_Loan  Securities_Account  CD_Account  Online  CreditCard  \n0              0                   1           0       0           0  \n1              0                   1           0       0           0  \n2              0                   0           0       0           0  \n3              0                   0           0       0           0  \n4              0                   0           0       0           1  ",
      "text/html": "<div>\n<style scoped>\n    .dataframe tbody tr th:only-of-type {\n        vertical-align: middle;\n    }\n\n    .dataframe tbody tr th {\n        vertical-align: top;\n    }\n\n    .dataframe thead th {\n        text-align: right;\n    }\n</style>\n<table border=\"1\" class=\"dataframe\">\n  <thead>\n    <tr style=\"text-align: right;\">\n      <th></th>\n      <th>ID</th>\n      <th>Age</th>\n      <th>Experience</th>\n      <th>Income</th>\n      <th>ZIPCode</th>\n      <th>Family</th>\n      <th>CCAvg</th>\n      <th>Education</th>\n      <th>Mortgage</th>\n      <th>Personal_Loan</th>\n      <th>Securities_Account</th>\n      <th>CD_Account</th>\n      <th>Online</th>\n      <th>CreditCard</th>\n    </tr>\n  </thead>\n  <tbody>\n    <tr>\n      <th>0</th>\n      <td>1</td>\n      <td>25</td>\n      <td>1</td>\n      <td>49</td>\n      <td>91107</td>\n      <td>4</td>\n      <td>1.6</td>\n      <td>1</td>\n      <td>0</td>\n      <td>0</td>\n      <td>1</td>\n      <td>0</td>\n      <td>0</td>\n      <td>0</td>\n    </tr>\n    <tr>\n      <th>1</th>\n      <td>2</td>\n      <td>45</td>\n      <td>19</td>\n      <td>34</td>\n      <td>90089</td>\n      <td>3</td>\n      <td>1.5</td>\n      <td>1</td>\n      <td>0</td>\n      <td>0</td>\n      <td>1</td>\n      <td>0</td>\n      <td>0</td>\n      <td>0</td>\n    </tr>\n    <tr>\n      <th>2</th>\n      <td>3</td>\n      <td>39</td>\n      <td>15</td>\n      <td>11</td>\n      <td>94720</td>\n      <td>1</td>\n      <td>1.0</td>\n      <td>1</td>\n      <td>0</td>\n      <td>0</td>\n      <td>0</td>\n      <td>0</td>\n      <td>0</td>\n      <td>0</td>\n    </tr>\n    <tr>\n      <th>3</th>\n      <td>4</td>\n      <td>35</td>\n      <td>9</td>\n      <td>100</td>\n      <td>94112</td>\n      <td>1</td>\n      <td>2.7</td>\n      <td>2</td>\n      <td>0</td>\n      <td>0</td>\n      <td>0</td>\n      <td>0</td>\n      <td>0</td>\n      <td>0</td>\n    </tr>\n    <tr>\n      <th>4</th>\n      <td>5</td>\n      <td>35</td>\n      <td>8</td>\n      <td>45</td>\n      <td>91330</td>\n      <td>4</td>\n      <td>1.0</td>\n      <td>2</td>\n      <td>0</td>\n      <td>0</td>\n      <td>0</td>\n      <td>0</td>\n      <td>0</td>\n      <td>1</td>\n    </tr>\n  </tbody>\n</table>\n</div>"
     },
     "execution_count": 2,
     "metadata": {},
     "output_type": "execute_result"
    }
   ],
   "source": [
    "df = pd.read_csv('Loan_Modelling.csv')\n",
    "df.head()"
   ]
  },
  {
   "cell_type": "markdown",
   "metadata": {
    "id": "vUbDMkrLQb8U"
   },
   "source": [
    "## Data Overview"
   ]
  },
  {
   "cell_type": "markdown",
   "metadata": {
    "id": "yPQbY4cIQaK4"
   },
   "source": [
    "* Observations\n",
    "* Sanity checks"
   ]
  },
  {
   "cell_type": "code",
   "execution_count": 3,
   "metadata": {
    "id": "EKrLdS4fZmpk",
    "ExecuteTime": {
     "end_time": "2023-10-11T19:54:52.362171700Z",
     "start_time": "2023-10-11T19:54:52.344428600Z"
    }
   },
   "outputs": [
    {
     "name": "stdout",
     "output_type": "stream",
     "text": [
      "<class 'pandas.core.frame.DataFrame'>\n",
      "RangeIndex: 5000 entries, 0 to 4999\n",
      "Data columns (total 14 columns):\n",
      " #   Column              Non-Null Count  Dtype  \n",
      "---  ------              --------------  -----  \n",
      " 0   ID                  5000 non-null   int64  \n",
      " 1   Age                 5000 non-null   int64  \n",
      " 2   Experience          5000 non-null   int64  \n",
      " 3   Income              5000 non-null   int64  \n",
      " 4   ZIPCode             5000 non-null   int64  \n",
      " 5   Family              5000 non-null   int64  \n",
      " 6   CCAvg               5000 non-null   float64\n",
      " 7   Education           5000 non-null   int64  \n",
      " 8   Mortgage            5000 non-null   int64  \n",
      " 9   Personal_Loan       5000 non-null   int64  \n",
      " 10  Securities_Account  5000 non-null   int64  \n",
      " 11  CD_Account          5000 non-null   int64  \n",
      " 12  Online              5000 non-null   int64  \n",
      " 13  CreditCard          5000 non-null   int64  \n",
      "dtypes: float64(1), int64(13)\n",
      "memory usage: 547.0 KB\n"
     ]
    }
   ],
   "source": [
    "df.info()"
   ]
  },
  {
   "cell_type": "markdown",
   "source": [
    "## Data Cleaning\n",
    "\n",
    "According to the data directory, zip code is a categorical variable. However, it is being treated as a numerical variable. Let's convert it to a categorical variable."
   ],
   "metadata": {
    "collapsed": false
   }
  },
  {
   "cell_type": "code",
   "execution_count": 11,
   "outputs": [
    {
     "name": "stdout",
     "output_type": "stream",
     "text": [
      "<class 'pandas.core.frame.DataFrame'>\n",
      "RangeIndex: 5000 entries, 0 to 4999\n",
      "Data columns (total 14 columns):\n",
      " #   Column              Non-Null Count  Dtype   \n",
      "---  ------              --------------  -----   \n",
      " 0   ID                  5000 non-null   int64   \n",
      " 1   Age                 5000 non-null   int64   \n",
      " 2   Experience          5000 non-null   int64   \n",
      " 3   Income              5000 non-null   int64   \n",
      " 4   ZIPCode             5000 non-null   category\n",
      " 5   Family              5000 non-null   int64   \n",
      " 6   CCAvg               5000 non-null   float64 \n",
      " 7   Education           5000 non-null   category\n",
      " 8   Mortgage            5000 non-null   int64   \n",
      " 9   Personal_Loan       5000 non-null   category\n",
      " 10  Securities_Account  5000 non-null   category\n",
      " 11  CD_Account          5000 non-null   category\n",
      " 12  Online              5000 non-null   category\n",
      " 13  CreditCard          5000 non-null   category\n",
      "dtypes: category(7), float64(1), int64(6)\n",
      "memory usage: 333.2 KB\n"
     ]
    }
   ],
   "source": [
    "for col in df[['ZIPCode', 'Education', 'Personal_Loan', 'Securities_Account', 'CD_Account', 'Online', 'CreditCard']]:\n",
    "    df[col] = pd.Categorical(df[col])\n",
    "\n",
    "df.info()"
   ],
   "metadata": {
    "collapsed": false,
    "ExecuteTime": {
     "end_time": "2023-10-11T20:02:38.666087200Z",
     "start_time": "2023-10-11T20:02:38.653207200Z"
    }
   }
  },
  {
   "cell_type": "markdown",
   "metadata": {
    "id": "9KgxRHBOy6fn"
   },
   "source": [
    "## Exploratory Data Analysis."
   ]
  },
  {
   "cell_type": "markdown",
   "metadata": {
    "id": "5w7PtDMazCRh"
   },
   "source": [
    "- EDA is an important part of any project involving data.\n",
    "- It is important to investigate and understand the data better before building a model with it.\n",
    "- A few questions have been mentioned below which will help you approach the analysis in the right manner and generate insights from the data.\n",
    "- A thorough analysis of the data, in addition to the questions mentioned below, should be done."
   ]
  },
  {
   "cell_type": "code",
   "execution_count": 17,
   "outputs": [
    {
     "data": {
      "text/plain": "<Figure size 640x480 with 1 Axes>",
      "image/png": "[encoded data removed]"
     },
     "metadata": {},
     "output_type": "display_data"
    },
    {
     "data": {
      "text/plain": "<Figure size 640x480 with 1 Axes>",
      "image/png": "[encoded data removed]"
     },
     "metadata": {},
     "output_type": "display_data"
    }
   ],
   "source": [
    "sns.histplot(data=df, x='Mortgage', kde=True)\n",
    "plt.show()\n",
    "sns.boxplot(data=df, x='Mortgage')\n",
    "plt.show()"
   ],
   "metadata": {
    "collapsed": false,
    "ExecuteTime": {
     "end_time": "2023-10-11T20:06:38.212508200Z",
     "start_time": "2023-10-11T20:06:37.938213700Z"
    }
   }
  },
  {
   "cell_type": "markdown",
   "metadata": {
    "id": "CjVNBJWozGSA"
   },
   "source": [
    "**Questions**:\n",
    "\n",
    "1. What is the distribution of mortgage attribute? Are there any noticeable patterns or outliers in the distribution?\n",
    "2. How many customers have credit cards?\n",
    "3. What are the attributes that have a strong correlation with the target attribute (personal loan)?\n",
    "4. How does a customer's interest in purchasing a loan vary with their age?\n",
    "5. How does a customer's interest in purchasing a loan vary with their education?"
   ]
  },
  {
   "cell_type": "code",
   "execution_count": null,
   "metadata": {
    "id": "KY7_qg7Cymt2"
   },
   "outputs": [],
   "source": []
  },
  {
   "cell_type": "markdown",
   "metadata": {
    "id": "ZCM6avoA39FB"
   },
   "source": [
    "## Data Preprocessing"
   ]
  },
  {
   "cell_type": "markdown",
   "metadata": {
    "id": "GxmVZXfCfNnc"
   },
   "source": [
    "* Missing value treatment\n",
    "* Feature engineering (if needed)\n",
    "* Outlier detection and treatment (if needed)\n",
    "* Preparing data for modeling\n",
    "* Any other preprocessing steps (if needed)"
   ]
  },
  {
   "cell_type": "code",
   "execution_count": null,
   "metadata": {
    "id": "q6D5tdDiymfd"
   },
   "outputs": [],
   "source": []
  },
  {
   "cell_type": "markdown",
   "metadata": {
    "id": "f4lwYN5bYmHp"
   },
   "source": [
    "## Model Building"
   ]
  },
  {
   "cell_type": "markdown",
   "metadata": {
    "id": "I8KXyX2cYnxg"
   },
   "source": [
    "### Model Evaluation Criterion"
   ]
  },
  {
   "cell_type": "markdown",
   "metadata": {
    "id": "s9-hADbhYrdc"
   },
   "source": [
    "* \n"
   ]
  },
  {
   "cell_type": "markdown",
   "metadata": {
    "id": "n0zOSq9mieSG"
   },
   "source": [
    "### Model Building"
   ]
  },
  {
   "cell_type": "code",
   "execution_count": null,
   "metadata": {
    "id": "N5-9mneBiVE8"
   },
   "outputs": [],
   "source": []
  },
  {
   "cell_type": "markdown",
   "metadata": {
    "id": "tOOFfQIWh3_G"
   },
   "source": [
    "### Model Performance Improvement"
   ]
  },
  {
   "cell_type": "code",
   "execution_count": null,
   "metadata": {
    "id": "D4H3HH5zh4dG"
   },
   "outputs": [],
   "source": []
  },
  {
   "cell_type": "markdown",
   "metadata": {
    "id": "36XMQ7JKjFyx"
   },
   "source": [
    "## Model Comparison and Final Model Selection"
   ]
  },
  {
   "cell_type": "code",
   "execution_count": null,
   "metadata": {
    "id": "jvq640U7kWZF"
   },
   "outputs": [],
   "source": []
  },
  {
   "cell_type": "markdown",
   "metadata": {
    "id": "vb-iuMZQkcDL"
   },
   "source": [
    "## Actionable Insights and Business Recommendations\n"
   ]
  },
  {
   "cell_type": "markdown",
   "metadata": {
    "id": "H_-eZCetiDXK"
   },
   "source": [
    "* What recommedations would you suggest to the bank?"
   ]
  },
  {
   "cell_type": "markdown",
   "metadata": {
    "id": "vX7N2zFwS1nV"
   },
   "source": [
    "___"
   ]
  }
 ],
 "metadata": {
  "colab": {
   "collapsed_sections": [
    "dHp26RRERvXx",
    "CP-77n_lxyBt",
    "D0cilOy9yeK7",
    "vUbDMkrLQb8U",
    "9KgxRHBOy6fn",
    "ZCM6avoA39FB",
    "f4lwYN5bYmHp",
    "I8KXyX2cYnxg",
    "n0zOSq9mieSG",
    "tOOFfQIWh3_G",
    "36XMQ7JKjFyx",
    "vb-iuMZQkcDL"
   ],
   "provenance": []
  },
  "kernelspec": {
   "display_name": "Python 3",
   "language": "python",
   "name": "python3"
  },
  "language_info": {
   "codemirror_mode": {
    "name": "ipython",
    "version": 3
   },
   "file_extension": ".py",
   "mimetype": "text/x-python",
   "name": "python",
   "nbconvert_exporter": "python",
   "pygments_lexer": "ipython3",
   "version": "3.8.8"
  }
 },
 "nbformat": 4,
 "nbformat_minor": 0
}
