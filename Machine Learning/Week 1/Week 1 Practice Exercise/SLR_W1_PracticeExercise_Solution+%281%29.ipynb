version https://git-lfs.github.com/spec/v1
oid sha256:996271ba047e703852ef43db99de47e6d73e2bffaebf347c534f8fc1b31eb35d
size 584359
