{
 "cells": [
  {
   "cell_type": "code",
   "execution_count": 1,
   "id": "initial_id",
   "metadata": {
    "collapsed": true,
    "ExecuteTime": {
     "end_time": "2023-10-24T16:48:52.119648622Z",
     "start_time": "2023-10-24T16:48:52.081108182Z"
    }
   },
   "outputs": [],
   "source": [
    "import pandas as pd\n",
    "import numpy as np\n",
    "\n",
    "import matplotlib.pyplot as plt\n",
    "import seaborn as sns"
   ]
  },
  {
   "cell_type": "code",
   "execution_count": 2,
   "outputs": [
    {
     "data": {
      "text/plain": "                     Annual_Turnover           Cuisine       City  \\\nRegistration_Number                                                 \n60001                       42000000      indian,irish  Bangalore   \n60002                       50000000      indian,irish     Indore   \n60003                       32500000   tibetan,italian    Chennai   \n60004                      110000000  turkish,nigerian    Gurgaon   \n60005                       20000000     irish,belgian    Manesar   \n\n                    Restaurant_Location Opening_Day_of_Restaurant  \\\nRegistration_Number                                                 \n60001                 Near Business Hub                2009-02-14   \n60002                    Near Party Hub                2008-09-29   \n60003                 Near Business Hub                2011-07-30   \n60004                    Near Party Hub                2008-11-30   \n60005                    Near Party Hub                2010-02-22   \n\n                     Facebook_Popularity_Quotient       Endorsed_By  \\\nRegistration_Number                                                   \n60001                                        84.3      Not Specific   \n60002                                        85.4  Tier A Celebrity   \n60003                                        85.0  Tier A Celebrity   \n60004                                        85.6  Tier A Celebrity   \n60005                                         NaN  Tier A Celebrity   \n\n                     Instagram_Popularity_Quotient  Fire_Audit  \\\nRegistration_Number                                              \n60001                                         95.8        True   \n60002                                         85.0        True   \n60003                                         68.2        True   \n60004                                         83.6       False   \n60005                                         76.8        True   \n\n                     Liquor_License_Obtained  ...  Live_Music_Rating  \\\nRegistration_Number                           ...                      \n60001                                   True  ...                4.0   \n60002                                   True  ...                NaN   \n60003                                   True  ...                3.0   \n60004                                   True  ...                6.0   \n60005                                   True  ...                NaN   \n\n                     Comedy_Gigs_Rating  Value_Deals_Rating  \\\nRegistration_Number                                           \n60001                               NaN                 NaN   \n60002                               4.0                 NaN   \n60003                               NaN                 NaN   \n60004                               NaN                 NaN   \n60005                               2.0                 NaN   \n\n                     Live_Sports_Rating Ambience Lively  Service  \\\nRegistration_Number                                                \n60001                               NaN      8.0      8        6   \n60002                               NaN      5.0      7        7   \n60003                               NaN      7.0     10        5   \n60004                               NaN      7.0      7        4   \n60005                               NaN      NaN      6        2   \n\n                     Comfortablility  Privacy           State  \nRegistration_Number                                            \n60001                              6        6       Karnataka  \n60002                              3        8  Madhya Pradesh  \n60003                              2        8      Tamil Nadu  \n60004                              3        5         Haryana  \n60005                              4        6         Haryana  \n\n[5 rows x 34 columns]",
      "text/html": "<div>\n<style scoped>\n    .dataframe tbody tr th:only-of-type {\n        vertical-align: middle;\n    }\n\n    .dataframe tbody tr th {\n        vertical-align: top;\n    }\n\n    .dataframe thead th {\n        text-align: right;\n    }\n</style>\n<table border=\"1\" class=\"dataframe\">\n  <thead>\n    <tr style=\"text-align: right;\">\n      <th></th>\n      <th>Annual_Turnover</th>\n      <th>Cuisine</th>\n      <th>City</th>\n      <th>Restaurant_Location</th>\n      <th>Opening_Day_of_Restaurant</th>\n      <th>Facebook_Popularity_Quotient</th>\n      <th>Endorsed_By</th>\n      <th>Instagram_Popularity_Quotient</th>\n      <th>Fire_Audit</th>\n      <th>Liquor_License_Obtained</th>\n      <th>...</th>\n      <th>Live_Music_Rating</th>\n      <th>Comedy_Gigs_Rating</th>\n      <th>Value_Deals_Rating</th>\n      <th>Live_Sports_Rating</th>\n      <th>Ambience</th>\n      <th>Lively</th>\n      <th>Service</th>\n      <th>Comfortablility</th>\n      <th>Privacy</th>\n      <th>State</th>\n    </tr>\n    <tr>\n      <th>Registration_Number</th>\n      <th></th>\n      <th></th>\n      <th></th>\n      <th></th>\n      <th></th>\n      <th></th>\n      <th></th>\n      <th></th>\n      <th></th>\n      <th></th>\n      <th></th>\n      <th></th>\n      <th></th>\n      <th></th>\n      <th></th>\n      <th></th>\n      <th></th>\n      <th></th>\n      <th></th>\n      <th></th>\n      <th></th>\n    </tr>\n  </thead>\n  <tbody>\n    <tr>\n      <th>60001</th>\n      <td>42000000</td>\n      <td>indian,irish</td>\n      <td>Bangalore</td>\n      <td>Near Business Hub</td>\n      <td>2009-02-14</td>\n      <td>84.3</td>\n      <td>Not Specific</td>\n      <td>95.8</td>\n      <td>True</td>\n      <td>True</td>\n      <td>...</td>\n      <td>4.0</td>\n      <td>NaN</td>\n      <td>NaN</td>\n      <td>NaN</td>\n      <td>8.0</td>\n      <td>8</td>\n      <td>6</td>\n      <td>6</td>\n      <td>6</td>\n      <td>Karnataka</td>\n    </tr>\n    <tr>\n      <th>60002</th>\n      <td>50000000</td>\n      <td>indian,irish</td>\n      <td>Indore</td>\n      <td>Near Party Hub</td>\n      <td>2008-09-29</td>\n      <td>85.4</td>\n      <td>Tier A Celebrity</td>\n      <td>85.0</td>\n      <td>True</td>\n      <td>True</td>\n      <td>...</td>\n      <td>NaN</td>\n      <td>4.0</td>\n      <td>NaN</td>\n      <td>NaN</td>\n      <td>5.0</td>\n      <td>7</td>\n      <td>7</td>\n      <td>3</td>\n      <td>8</td>\n      <td>Madhya Pradesh</td>\n    </tr>\n    <tr>\n      <th>60003</th>\n      <td>32500000</td>\n      <td>tibetan,italian</td>\n      <td>Chennai</td>\n      <td>Near Business Hub</td>\n      <td>2011-07-30</td>\n      <td>85.0</td>\n      <td>Tier A Celebrity</td>\n      <td>68.2</td>\n      <td>True</td>\n      <td>True</td>\n      <td>...</td>\n      <td>3.0</td>\n      <td>NaN</td>\n      <td>NaN</td>\n      <td>NaN</td>\n      <td>7.0</td>\n      <td>10</td>\n      <td>5</td>\n      <td>2</td>\n      <td>8</td>\n      <td>Tamil Nadu</td>\n    </tr>\n    <tr>\n      <th>60004</th>\n      <td>110000000</td>\n      <td>turkish,nigerian</td>\n      <td>Gurgaon</td>\n      <td>Near Party Hub</td>\n      <td>2008-11-30</td>\n      <td>85.6</td>\n      <td>Tier A Celebrity</td>\n      <td>83.6</td>\n      <td>False</td>\n      <td>True</td>\n      <td>...</td>\n      <td>6.0</td>\n      <td>NaN</td>\n      <td>NaN</td>\n      <td>NaN</td>\n      <td>7.0</td>\n      <td>7</td>\n      <td>4</td>\n      <td>3</td>\n      <td>5</td>\n      <td>Haryana</td>\n    </tr>\n    <tr>\n      <th>60005</th>\n      <td>20000000</td>\n      <td>irish,belgian</td>\n      <td>Manesar</td>\n      <td>Near Party Hub</td>\n      <td>2010-02-22</td>\n      <td>NaN</td>\n      <td>Tier A Celebrity</td>\n      <td>76.8</td>\n      <td>True</td>\n      <td>True</td>\n      <td>...</td>\n      <td>NaN</td>\n      <td>2.0</td>\n      <td>NaN</td>\n      <td>NaN</td>\n      <td>NaN</td>\n      <td>6</td>\n      <td>2</td>\n      <td>4</td>\n      <td>6</td>\n      <td>Haryana</td>\n    </tr>\n  </tbody>\n</table>\n<p>5 rows × 34 columns</p>\n</div>"
     },
     "execution_count": 2,
     "metadata": {},
     "output_type": "execute_result"
    }
   ],
   "source": [
    "data_raw = pd.read_csv('train_dataset_cleaned.csv', encoding='utf_16', index_col='Registration_Number')\n",
    "df = data_raw.copy()\n",
    "\n",
    "df.head()"
   ],
   "metadata": {
    "collapsed": false,
    "ExecuteTime": {
     "end_time": "2023-10-24T16:48:52.187291246Z",
     "start_time": "2023-10-24T16:48:52.084069432Z"
    }
   },
   "id": "89ef3cccb6c2fe45"
  },
  {
   "cell_type": "code",
   "execution_count": 3,
   "outputs": [
    {
     "data": {
      "text/plain": "                     Annual_Turnover Restaurant_Location  \\\nRegistration_Number                                        \n60001                       42000000   Near Business Hub   \n60002                       50000000      Near Party Hub   \n60003                       32500000   Near Business Hub   \n60004                      110000000      Near Party Hub   \n60005                       20000000      Near Party Hub   \n\n                     Facebook_Popularity_Quotient       Endorsed_By  \\\nRegistration_Number                                                   \n60001                                        84.3      Not Specific   \n60002                                        85.4  Tier A Celebrity   \n60003                                        85.0  Tier A Celebrity   \n60004                                        85.6  Tier A Celebrity   \n60005                                         NaN  Tier A Celebrity   \n\n                     Instagram_Popularity_Quotient  Fire_Audit  \\\nRegistration_Number                                              \n60001                                         95.8        True   \n60002                                         85.0        True   \n60003                                         68.2        True   \n60004                                         83.6       False   \n60005                                         76.8        True   \n\n                     Liquor_License_Obtained  Situated_in_a_Multi_Complex  \\\nRegistration_Number                                                         \n60001                                   True                         True   \n60002                                   True                         True   \n60003                                   True                         True   \n60004                                   True                         True   \n60005                                   True                         True   \n\n                     Dedicated_Parking  Open_Sitting_Available  ...  \\\nRegistration_Number                                             ...   \n60001                            False                    True  ...   \n60002                             True                   False  ...   \n60003                             True                   False  ...   \n60004                             True                    True  ...   \n60005                             True                    True  ...   \n\n                     Staff_Responsivness Value_for_Money  Hygiene_Rating  \\\nRegistration_Number                                                        \n60001                                  5               5               5   \n60002                                  6               6               7   \n60003                                  6               5               3   \n60004                                  6               5               6   \n60005                                  5               6               4   \n\n                     Food_Rating  Overall_Restaurant_Rating  Ambience  Lively  \\\nRegistration_Number                                                             \n60001                          7                       10.0       8.0       8   \n60002                          8                        9.0       5.0       7   \n60003                          7                        8.0       7.0      10   \n60004                          8                        9.0       7.0       7   \n60005                          8                        6.0       NaN       6   \n\n                     Service  Comfortablility  Privacy  \nRegistration_Number                                     \n60001                      6                6        6  \n60002                      7                3        8  \n60003                      5                2        8  \n60004                      4                3        5  \n60005                      2                4        6  \n\n[5 rows x 25 columns]",
      "text/html": "<div>\n<style scoped>\n    .dataframe tbody tr th:only-of-type {\n        vertical-align: middle;\n    }\n\n    .dataframe tbody tr th {\n        vertical-align: top;\n    }\n\n    .dataframe thead th {\n        text-align: right;\n    }\n</style>\n<table border=\"1\" class=\"dataframe\">\n  <thead>\n    <tr style=\"text-align: right;\">\n      <th></th>\n      <th>Annual_Turnover</th>\n      <th>Restaurant_Location</th>\n      <th>Facebook_Popularity_Quotient</th>\n      <th>Endorsed_By</th>\n      <th>Instagram_Popularity_Quotient</th>\n      <th>Fire_Audit</th>\n      <th>Liquor_License_Obtained</th>\n      <th>Situated_in_a_Multi_Complex</th>\n      <th>Dedicated_Parking</th>\n      <th>Open_Sitting_Available</th>\n      <th>...</th>\n      <th>Staff_Responsivness</th>\n      <th>Value_for_Money</th>\n      <th>Hygiene_Rating</th>\n      <th>Food_Rating</th>\n      <th>Overall_Restaurant_Rating</th>\n      <th>Ambience</th>\n      <th>Lively</th>\n      <th>Service</th>\n      <th>Comfortablility</th>\n      <th>Privacy</th>\n    </tr>\n    <tr>\n      <th>Registration_Number</th>\n      <th></th>\n      <th></th>\n      <th></th>\n      <th></th>\n      <th></th>\n      <th></th>\n      <th></th>\n      <th></th>\n      <th></th>\n      <th></th>\n      <th></th>\n      <th></th>\n      <th></th>\n      <th></th>\n      <th></th>\n      <th></th>\n      <th></th>\n      <th></th>\n      <th></th>\n      <th></th>\n      <th></th>\n    </tr>\n  </thead>\n  <tbody>\n    <tr>\n      <th>60001</th>\n      <td>42000000</td>\n      <td>Near Business Hub</td>\n      <td>84.3</td>\n      <td>Not Specific</td>\n      <td>95.8</td>\n      <td>True</td>\n      <td>True</td>\n      <td>True</td>\n      <td>False</td>\n      <td>True</td>\n      <td>...</td>\n      <td>5</td>\n      <td>5</td>\n      <td>5</td>\n      <td>7</td>\n      <td>10.0</td>\n      <td>8.0</td>\n      <td>8</td>\n      <td>6</td>\n      <td>6</td>\n      <td>6</td>\n    </tr>\n    <tr>\n      <th>60002</th>\n      <td>50000000</td>\n      <td>Near Party Hub</td>\n      <td>85.4</td>\n      <td>Tier A Celebrity</td>\n      <td>85.0</td>\n      <td>True</td>\n      <td>True</td>\n      <td>True</td>\n      <td>True</td>\n      <td>False</td>\n      <td>...</td>\n      <td>6</td>\n      <td>6</td>\n      <td>7</td>\n      <td>8</td>\n      <td>9.0</td>\n      <td>5.0</td>\n      <td>7</td>\n      <td>7</td>\n      <td>3</td>\n      <td>8</td>\n    </tr>\n    <tr>\n      <th>60003</th>\n      <td>32500000</td>\n      <td>Near Business Hub</td>\n      <td>85.0</td>\n      <td>Tier A Celebrity</td>\n      <td>68.2</td>\n      <td>True</td>\n      <td>True</td>\n      <td>True</td>\n      <td>True</td>\n      <td>False</td>\n      <td>...</td>\n      <td>6</td>\n      <td>5</td>\n      <td>3</td>\n      <td>7</td>\n      <td>8.0</td>\n      <td>7.0</td>\n      <td>10</td>\n      <td>5</td>\n      <td>2</td>\n      <td>8</td>\n    </tr>\n    <tr>\n      <th>60004</th>\n      <td>110000000</td>\n      <td>Near Party Hub</td>\n      <td>85.6</td>\n      <td>Tier A Celebrity</td>\n      <td>83.6</td>\n      <td>False</td>\n      <td>True</td>\n      <td>True</td>\n      <td>True</td>\n      <td>True</td>\n      <td>...</td>\n      <td>6</td>\n      <td>5</td>\n      <td>6</td>\n      <td>8</td>\n      <td>9.0</td>\n      <td>7.0</td>\n      <td>7</td>\n      <td>4</td>\n      <td>3</td>\n      <td>5</td>\n    </tr>\n    <tr>\n      <th>60005</th>\n      <td>20000000</td>\n      <td>Near Party Hub</td>\n      <td>NaN</td>\n      <td>Tier A Celebrity</td>\n      <td>76.8</td>\n      <td>True</td>\n      <td>True</td>\n      <td>True</td>\n      <td>True</td>\n      <td>True</td>\n      <td>...</td>\n      <td>5</td>\n      <td>6</td>\n      <td>4</td>\n      <td>8</td>\n      <td>6.0</td>\n      <td>NaN</td>\n      <td>6</td>\n      <td>2</td>\n      <td>4</td>\n      <td>6</td>\n    </tr>\n  </tbody>\n</table>\n<p>5 rows × 25 columns</p>\n</div>"
     },
     "execution_count": 3,
     "metadata": {},
     "output_type": "execute_result"
    }
   ],
   "source": [
    "df_train = df[['Annual_Turnover', 'Restaurant_Location','Facebook_Popularity_Quotient','Endorsed_By','Instagram_Popularity_Quotient','Fire_Audit','Liquor_License_Obtained','Situated_in_a_Multi_Complex','Dedicated_Parking','Open_Sitting_Available','Resturant_Tier','Restaurant_Type','Restaurant_Zomato_Rating','Restaurant_City_Tier','Order_Wait_Time','Staff_Responsivness','Value_for_Money','Hygiene_Rating','Food_Rating','Overall_Restaurant_Rating','Ambience','Lively','Service','Comfortablility','Privacy']].copy()\n",
    "\n",
    "df_train.head()"
   ],
   "metadata": {
    "collapsed": false,
    "ExecuteTime": {
     "end_time": "2023-10-24T16:48:52.187812473Z",
     "start_time": "2023-10-24T16:48:52.168547162Z"
    }
   },
   "id": "442cb922edee5df4"
  },
  {
   "cell_type": "code",
   "execution_count": 4,
   "outputs": [],
   "source": [
    "df_train.Facebook_Popularity_Quotient.fillna(df_train.Facebook_Popularity_Quotient.median(), inplace=True)\n",
    "df_train.Instagram_Popularity_Quotient.fillna(df_train.Instagram_Popularity_Quotient.mean(), inplace=True)\n",
    "df_train.Resturant_Tier.fillna(df_train.Resturant_Tier.mode()[0], inplace=True)\n",
    "df_train.Overall_Restaurant_Rating.fillna(df_train.Overall_Restaurant_Rating.median(), inplace=True)\n",
    "df_train.Ambience.fillna(df_train.Ambience.median(), inplace=True)\n",
    "#df_train = pd.get_dummies(df_train, columns=['Restaurant_Location','Endorsed_By','Resturant_Tier','Restaurant_Type'], drop_first=True)"
   ],
   "metadata": {
    "collapsed": false,
    "ExecuteTime": {
     "end_time": "2023-10-24T16:48:52.187950314Z",
     "start_time": "2023-10-24T16:48:52.168745515Z"
    }
   },
   "id": "22504a5bc1cbf0b6"
  },
  {
   "cell_type": "code",
   "execution_count": 5,
   "outputs": [],
   "source": [
    "df_train = pd.get_dummies(df_train, columns=['Restaurant_Location','Endorsed_By','Resturant_Tier','Restaurant_Type'], drop_first=True)"
   ],
   "metadata": {
    "collapsed": false,
    "ExecuteTime": {
     "end_time": "2023-10-24T16:48:52.188077546Z",
     "start_time": "2023-10-24T16:48:52.168914077Z"
    }
   },
   "id": "178980da28367668"
  },
  {
   "cell_type": "code",
   "execution_count": 6,
   "outputs": [
    {
     "data": {
      "text/plain": "                     Annual_Turnover  Facebook_Popularity_Quotient  \\\nRegistration_Number                                                  \n60001                       42000000                          84.3   \n60002                       50000000                          85.4   \n60003                       32500000                          85.0   \n60004                      110000000                          85.6   \n60005                       20000000                          79.0   \n\n                     Instagram_Popularity_Quotient  Fire_Audit  \\\nRegistration_Number                                              \n60001                                         95.8        True   \n60002                                         85.0        True   \n60003                                         68.2        True   \n60004                                         83.6       False   \n60005                                         76.8        True   \n\n                     Liquor_License_Obtained  Situated_in_a_Multi_Complex  \\\nRegistration_Number                                                         \n60001                                   True                         True   \n60002                                   True                         True   \n60003                                   True                         True   \n60004                                   True                         True   \n60005                                   True                         True   \n\n                     Dedicated_Parking  Open_Sitting_Available  \\\nRegistration_Number                                              \n60001                            False                    True   \n60002                             True                   False   \n60003                             True                   False   \n60004                             True                    True   \n60005                             True                    True   \n\n                     Restaurant_Zomato_Rating  Restaurant_City_Tier  ...  \\\nRegistration_Number                                                  ...   \n60001                                       3                 False  ...   \n60002                                       3                 False  ...   \n60003                                       3                 False  ...   \n60004                                       3                  True  ...   \n60005                                       3                 False  ...   \n\n                     Service  Comfortablility  Privacy  \\\nRegistration_Number                                      \n60001                      6                6        6   \n60002                      7                3        8   \n60003                      5                2        8   \n60004                      4                3        5   \n60005                      2                4        6   \n\n                     Restaurant_Location_Near Party Hub  \\\nRegistration_Number                                       \n60001                                             False   \n60002                                              True   \n60003                                             False   \n60004                                              True   \n60005                                              True   \n\n                     Endorsed_By_Not Specific  Endorsed_By_Tier A Celebrity  \\\nRegistration_Number                                                           \n60001                                    True                         False   \n60002                                   False                          True   \n60003                                   False                          True   \n60004                                   False                          True   \n60005                                   False                          True   \n\n                     Resturant_Tier_2.0  \\\nRegistration_Number                       \n60001                              True   \n60002                              True   \n60003                              True   \n60004                             False   \n60005                              True   \n\n                     Restaurant_Type_Buffet/Family Restaurant  \\\nRegistration_Number                                             \n60001                                                   False   \n60002                                                   False   \n60003                                                   False   \n60004                                                   False   \n60005                                                   False   \n\n                     Restaurant_Type_Caffee  Restaurant_Type_Gastro Bar  \nRegistration_Number                                                      \n60001                                 False                       False  \n60002                                 False                       False  \n60003                                 False                       False  \n60004                                 False                       False  \n60005                                 False                       False  \n\n[5 rows x 28 columns]",
      "text/html": "<div>\n<style scoped>\n    .dataframe tbody tr th:only-of-type {\n        vertical-align: middle;\n    }\n\n    .dataframe tbody tr th {\n        vertical-align: top;\n    }\n\n    .dataframe thead th {\n        text-align: right;\n    }\n</style>\n<table border=\"1\" class=\"dataframe\">\n  <thead>\n    <tr style=\"text-align: right;\">\n      <th></th>\n      <th>Annual_Turnover</th>\n      <th>Facebook_Popularity_Quotient</th>\n      <th>Instagram_Popularity_Quotient</th>\n      <th>Fire_Audit</th>\n      <th>Liquor_License_Obtained</th>\n      <th>Situated_in_a_Multi_Complex</th>\n      <th>Dedicated_Parking</th>\n      <th>Open_Sitting_Available</th>\n      <th>Restaurant_Zomato_Rating</th>\n      <th>Restaurant_City_Tier</th>\n      <th>...</th>\n      <th>Service</th>\n      <th>Comfortablility</th>\n      <th>Privacy</th>\n      <th>Restaurant_Location_Near Party Hub</th>\n      <th>Endorsed_By_Not Specific</th>\n      <th>Endorsed_By_Tier A Celebrity</th>\n      <th>Resturant_Tier_2.0</th>\n      <th>Restaurant_Type_Buffet/Family Restaurant</th>\n      <th>Restaurant_Type_Caffee</th>\n      <th>Restaurant_Type_Gastro Bar</th>\n    </tr>\n    <tr>\n      <th>Registration_Number</th>\n      <th></th>\n      <th></th>\n      <th></th>\n      <th></th>\n      <th></th>\n      <th></th>\n      <th></th>\n      <th></th>\n      <th></th>\n      <th></th>\n      <th></th>\n      <th></th>\n      <th></th>\n      <th></th>\n      <th></th>\n      <th></th>\n      <th></th>\n      <th></th>\n      <th></th>\n      <th></th>\n      <th></th>\n    </tr>\n  </thead>\n  <tbody>\n    <tr>\n      <th>60001</th>\n      <td>42000000</td>\n      <td>84.3</td>\n      <td>95.8</td>\n      <td>True</td>\n      <td>True</td>\n      <td>True</td>\n      <td>False</td>\n      <td>True</td>\n      <td>3</td>\n      <td>False</td>\n      <td>...</td>\n      <td>6</td>\n      <td>6</td>\n      <td>6</td>\n      <td>False</td>\n      <td>True</td>\n      <td>False</td>\n      <td>True</td>\n      <td>False</td>\n      <td>False</td>\n      <td>False</td>\n    </tr>\n    <tr>\n      <th>60002</th>\n      <td>50000000</td>\n      <td>85.4</td>\n      <td>85.0</td>\n      <td>True</td>\n      <td>True</td>\n      <td>True</td>\n      <td>True</td>\n      <td>False</td>\n      <td>3</td>\n      <td>False</td>\n      <td>...</td>\n      <td>7</td>\n      <td>3</td>\n      <td>8</td>\n      <td>True</td>\n      <td>False</td>\n      <td>True</td>\n      <td>True</td>\n      <td>False</td>\n      <td>False</td>\n      <td>False</td>\n    </tr>\n    <tr>\n      <th>60003</th>\n      <td>32500000</td>\n      <td>85.0</td>\n      <td>68.2</td>\n      <td>True</td>\n      <td>True</td>\n      <td>True</td>\n      <td>True</td>\n      <td>False</td>\n      <td>3</td>\n      <td>False</td>\n      <td>...</td>\n      <td>5</td>\n      <td>2</td>\n      <td>8</td>\n      <td>False</td>\n      <td>False</td>\n      <td>True</td>\n      <td>True</td>\n      <td>False</td>\n      <td>False</td>\n      <td>False</td>\n    </tr>\n    <tr>\n      <th>60004</th>\n      <td>110000000</td>\n      <td>85.6</td>\n      <td>83.6</td>\n      <td>False</td>\n      <td>True</td>\n      <td>True</td>\n      <td>True</td>\n      <td>True</td>\n      <td>3</td>\n      <td>True</td>\n      <td>...</td>\n      <td>4</td>\n      <td>3</td>\n      <td>5</td>\n      <td>True</td>\n      <td>False</td>\n      <td>True</td>\n      <td>False</td>\n      <td>False</td>\n      <td>False</td>\n      <td>False</td>\n    </tr>\n    <tr>\n      <th>60005</th>\n      <td>20000000</td>\n      <td>79.0</td>\n      <td>76.8</td>\n      <td>True</td>\n      <td>True</td>\n      <td>True</td>\n      <td>True</td>\n      <td>True</td>\n      <td>3</td>\n      <td>False</td>\n      <td>...</td>\n      <td>2</td>\n      <td>4</td>\n      <td>6</td>\n      <td>True</td>\n      <td>False</td>\n      <td>True</td>\n      <td>True</td>\n      <td>False</td>\n      <td>False</td>\n      <td>False</td>\n    </tr>\n  </tbody>\n</table>\n<p>5 rows × 28 columns</p>\n</div>"
     },
     "execution_count": 6,
     "metadata": {},
     "output_type": "execute_result"
    }
   ],
   "source": [
    "df_train.head()"
   ],
   "metadata": {
    "collapsed": false,
    "ExecuteTime": {
     "end_time": "2023-10-24T16:48:52.255942402Z",
     "start_time": "2023-10-24T16:48:52.169024789Z"
    }
   },
   "id": "e9f9cd344a67b54c"
  },
  {
   "cell_type": "code",
   "execution_count": 7,
   "outputs": [
    {
     "data": {
      "text/plain": "                     Annual_Turnover  Facebook_Popularity_Quotient  \\\nRegistration_Number                                                  \n60001                       42000000                          84.3   \n60002                       50000000                          85.4   \n60003                       32500000                          85.0   \n60004                      110000000                          85.6   \n60005                       20000000                          79.0   \n\n                     Instagram_Popularity_Quotient  Fire_Audit  \\\nRegistration_Number                                              \n60001                                         95.8           1   \n60002                                         85.0           1   \n60003                                         68.2           1   \n60004                                         83.6           0   \n60005                                         76.8           1   \n\n                     Liquor_License_Obtained  Situated_in_a_Multi_Complex  \\\nRegistration_Number                                                         \n60001                                      1                            1   \n60002                                      1                            1   \n60003                                      1                            1   \n60004                                      1                            1   \n60005                                      1                            1   \n\n                     Dedicated_Parking  Open_Sitting_Available  \\\nRegistration_Number                                              \n60001                                0                       1   \n60002                                1                       0   \n60003                                1                       0   \n60004                                1                       1   \n60005                                1                       1   \n\n                     Restaurant_Zomato_Rating  Restaurant_City_Tier  ...  \\\nRegistration_Number                                                  ...   \n60001                                       3                     0  ...   \n60002                                       3                     0  ...   \n60003                                       3                     0  ...   \n60004                                       3                     1  ...   \n60005                                       3                     0  ...   \n\n                     Service  Comfortablility  Privacy  \\\nRegistration_Number                                      \n60001                      6                6        6   \n60002                      7                3        8   \n60003                      5                2        8   \n60004                      4                3        5   \n60005                      2                4        6   \n\n                     Restaurant_Location_Near Party Hub  \\\nRegistration_Number                                       \n60001                                                 0   \n60002                                                 1   \n60003                                                 0   \n60004                                                 1   \n60005                                                 1   \n\n                     Endorsed_By_Not Specific  Endorsed_By_Tier A Celebrity  \\\nRegistration_Number                                                           \n60001                                       1                             0   \n60002                                       0                             1   \n60003                                       0                             1   \n60004                                       0                             1   \n60005                                       0                             1   \n\n                     Resturant_Tier_2.0  \\\nRegistration_Number                       \n60001                                 1   \n60002                                 1   \n60003                                 1   \n60004                                 0   \n60005                                 1   \n\n                     Restaurant_Type_Buffet/Family Restaurant  \\\nRegistration_Number                                             \n60001                                                       0   \n60002                                                       0   \n60003                                                       0   \n60004                                                       0   \n60005                                                       0   \n\n                     Restaurant_Type_Caffee  Restaurant_Type_Gastro Bar  \nRegistration_Number                                                      \n60001                                     0                           0  \n60002                                     0                           0  \n60003                                     0                           0  \n60004                                     0                           0  \n60005                                     0                           0  \n\n[5 rows x 28 columns]",
      "text/html": "<div>\n<style scoped>\n    .dataframe tbody tr th:only-of-type {\n        vertical-align: middle;\n    }\n\n    .dataframe tbody tr th {\n        vertical-align: top;\n    }\n\n    .dataframe thead th {\n        text-align: right;\n    }\n</style>\n<table border=\"1\" class=\"dataframe\">\n  <thead>\n    <tr style=\"text-align: right;\">\n      <th></th>\n      <th>Annual_Turnover</th>\n      <th>Facebook_Popularity_Quotient</th>\n      <th>Instagram_Popularity_Quotient</th>\n      <th>Fire_Audit</th>\n      <th>Liquor_License_Obtained</th>\n      <th>Situated_in_a_Multi_Complex</th>\n      <th>Dedicated_Parking</th>\n      <th>Open_Sitting_Available</th>\n      <th>Restaurant_Zomato_Rating</th>\n      <th>Restaurant_City_Tier</th>\n      <th>...</th>\n      <th>Service</th>\n      <th>Comfortablility</th>\n      <th>Privacy</th>\n      <th>Restaurant_Location_Near Party Hub</th>\n      <th>Endorsed_By_Not Specific</th>\n      <th>Endorsed_By_Tier A Celebrity</th>\n      <th>Resturant_Tier_2.0</th>\n      <th>Restaurant_Type_Buffet/Family Restaurant</th>\n      <th>Restaurant_Type_Caffee</th>\n      <th>Restaurant_Type_Gastro Bar</th>\n    </tr>\n    <tr>\n      <th>Registration_Number</th>\n      <th></th>\n      <th></th>\n      <th></th>\n      <th></th>\n      <th></th>\n      <th></th>\n      <th></th>\n      <th></th>\n      <th></th>\n      <th></th>\n      <th></th>\n      <th></th>\n      <th></th>\n      <th></th>\n      <th></th>\n      <th></th>\n      <th></th>\n      <th></th>\n      <th></th>\n      <th></th>\n      <th></th>\n    </tr>\n  </thead>\n  <tbody>\n    <tr>\n      <th>60001</th>\n      <td>42000000</td>\n      <td>84.3</td>\n      <td>95.8</td>\n      <td>1</td>\n      <td>1</td>\n      <td>1</td>\n      <td>0</td>\n      <td>1</td>\n      <td>3</td>\n      <td>0</td>\n      <td>...</td>\n      <td>6</td>\n      <td>6</td>\n      <td>6</td>\n      <td>0</td>\n      <td>1</td>\n      <td>0</td>\n      <td>1</td>\n      <td>0</td>\n      <td>0</td>\n      <td>0</td>\n    </tr>\n    <tr>\n      <th>60002</th>\n      <td>50000000</td>\n      <td>85.4</td>\n      <td>85.0</td>\n      <td>1</td>\n      <td>1</td>\n      <td>1</td>\n      <td>1</td>\n      <td>0</td>\n      <td>3</td>\n      <td>0</td>\n      <td>...</td>\n      <td>7</td>\n      <td>3</td>\n      <td>8</td>\n      <td>1</td>\n      <td>0</td>\n      <td>1</td>\n      <td>1</td>\n      <td>0</td>\n      <td>0</td>\n      <td>0</td>\n    </tr>\n    <tr>\n      <th>60003</th>\n      <td>32500000</td>\n      <td>85.0</td>\n      <td>68.2</td>\n      <td>1</td>\n      <td>1</td>\n      <td>1</td>\n      <td>1</td>\n      <td>0</td>\n      <td>3</td>\n      <td>0</td>\n      <td>...</td>\n      <td>5</td>\n      <td>2</td>\n      <td>8</td>\n      <td>0</td>\n      <td>0</td>\n      <td>1</td>\n      <td>1</td>\n      <td>0</td>\n      <td>0</td>\n      <td>0</td>\n    </tr>\n    <tr>\n      <th>60004</th>\n      <td>110000000</td>\n      <td>85.6</td>\n      <td>83.6</td>\n      <td>0</td>\n      <td>1</td>\n      <td>1</td>\n      <td>1</td>\n      <td>1</td>\n      <td>3</td>\n      <td>1</td>\n      <td>...</td>\n      <td>4</td>\n      <td>3</td>\n      <td>5</td>\n      <td>1</td>\n      <td>0</td>\n      <td>1</td>\n      <td>0</td>\n      <td>0</td>\n      <td>0</td>\n      <td>0</td>\n    </tr>\n    <tr>\n      <th>60005</th>\n      <td>20000000</td>\n      <td>79.0</td>\n      <td>76.8</td>\n      <td>1</td>\n      <td>1</td>\n      <td>1</td>\n      <td>1</td>\n      <td>1</td>\n      <td>3</td>\n      <td>0</td>\n      <td>...</td>\n      <td>2</td>\n      <td>4</td>\n      <td>6</td>\n      <td>1</td>\n      <td>0</td>\n      <td>1</td>\n      <td>1</td>\n      <td>0</td>\n      <td>0</td>\n      <td>0</td>\n    </tr>\n  </tbody>\n</table>\n<p>5 rows × 28 columns</p>\n</div>"
     },
     "execution_count": 7,
     "metadata": {},
     "output_type": "execute_result"
    }
   ],
   "source": [
    "# convert all boolean values to 0 and 1 in a for loop\n",
    "for col in df_train.columns:\n",
    "    if df_train[col].dtype == 'bool':\n",
    "        df_train[col] = df_train[col].astype(int)\n",
    "\n",
    "df_train.head()"
   ],
   "metadata": {
    "collapsed": false,
    "ExecuteTime": {
     "end_time": "2023-10-24T16:48:52.256436689Z",
     "start_time": "2023-10-24T16:48:52.212593677Z"
    }
   },
   "id": "1c08140cb71019f3"
  },
  {
   "cell_type": "code",
   "execution_count": 8,
   "outputs": [
    {
     "name": "stderr",
     "output_type": "stream",
     "text": [
      "Intel(R) Extension for Scikit-learn* enabled (https://github.com/intel/scikit-learn-intelex)\n"
     ]
    }
   ],
   "source": [
    "# first, import intelex and patch\n",
    "from sklearnex import patch_sklearn\n",
    "patch_sklearn()\n",
    "\n",
    "# to split the data into train and test\n",
    "from sklearn.model_selection import train_test_split\n",
    "\n",
    "# to build linear regression_model\n",
    "from sklearn.linear_model import LinearRegression\n",
    "\n",
    "# to check model performance\n",
    "from sklearn.metrics import mean_squared_error"
   ],
   "metadata": {
    "collapsed": false,
    "ExecuteTime": {
     "end_time": "2023-10-24T16:49:53.241133777Z",
     "start_time": "2023-10-24T16:49:52.991777546Z"
    }
   },
   "id": "a593174a55c42eea"
  },
  {
   "cell_type": "code",
   "execution_count": 9,
   "outputs": [],
   "source": [
    "x = df_train.drop(columns=['Annual_Turnover'])\n",
    "y = df_train['Annual_Turnover']\n",
    "x_train, x_test, y_train, y_test = train_test_split(x, y, test_size=0.3, random_state=1)\n"
   ],
   "metadata": {
    "collapsed": false,
    "ExecuteTime": {
     "end_time": "2023-10-24T16:49:58.624001200Z",
     "start_time": "2023-10-24T16:49:58.621404005Z"
    }
   },
   "id": "123d526631216c8f"
  },
  {
   "cell_type": "code",
   "execution_count": 10,
   "outputs": [
    {
     "name": "stderr",
     "output_type": "stream",
     "text": [
      "/home/tinlong/anaconda3/envs/dataspell/lib/python3.11/site-packages/daal4py/sklearn/utils/validation.py:239: FutureWarning: is_sparse is deprecated and will be removed in a future version. Check `isinstance(dtype, pd.SparseDtype)` instead.\n",
      "  not array.dtypes.apply(is_sparse).any():\n"
     ]
    },
    {
     "data": {
      "text/plain": "LinearRegression()",
      "text/html": "<style>#sk-container-id-1 {color: black;}#sk-container-id-1 pre{padding: 0;}#sk-container-id-1 div.sk-toggleable {background-color: white;}#sk-container-id-1 label.sk-toggleable__label {cursor: pointer;display: block;width: 100%;margin-bottom: 0;padding: 0.3em;box-sizing: border-box;text-align: center;}#sk-container-id-1 label.sk-toggleable__label-arrow:before {content: \"▸\";float: left;margin-right: 0.25em;color: #696969;}#sk-container-id-1 label.sk-toggleable__label-arrow:hover:before {color: black;}#sk-container-id-1 div.sk-estimator:hover label.sk-toggleable__label-arrow:before {color: black;}#sk-container-id-1 div.sk-toggleable__content {max-height: 0;max-width: 0;overflow: hidden;text-align: left;background-color: #f0f8ff;}#sk-container-id-1 div.sk-toggleable__content pre {margin: 0.2em;color: black;border-radius: 0.25em;background-color: #f0f8ff;}#sk-container-id-1 input.sk-toggleable__control:checked~div.sk-toggleable__content {max-height: 200px;max-width: 100%;overflow: auto;}#sk-container-id-1 input.sk-toggleable__control:checked~label.sk-toggleable__label-arrow:before {content: \"▾\";}#sk-container-id-1 div.sk-estimator input.sk-toggleable__control:checked~label.sk-toggleable__label {background-color: #d4ebff;}#sk-container-id-1 div.sk-label input.sk-toggleable__control:checked~label.sk-toggleable__label {background-color: #d4ebff;}#sk-container-id-1 input.sk-hidden--visually {border: 0;clip: rect(1px 1px 1px 1px);clip: rect(1px, 1px, 1px, 1px);height: 1px;margin: -1px;overflow: hidden;padding: 0;position: absolute;width: 1px;}#sk-container-id-1 div.sk-estimator {font-family: monospace;background-color: #f0f8ff;border: 1px dotted black;border-radius: 0.25em;box-sizing: border-box;margin-bottom: 0.5em;}#sk-container-id-1 div.sk-estimator:hover {background-color: #d4ebff;}#sk-container-id-1 div.sk-parallel-item::after {content: \"\";width: 100%;border-bottom: 1px solid gray;flex-grow: 1;}#sk-container-id-1 div.sk-label:hover label.sk-toggleable__label {background-color: #d4ebff;}#sk-container-id-1 div.sk-serial::before {content: \"\";position: absolute;border-left: 1px solid gray;box-sizing: border-box;top: 0;bottom: 0;left: 50%;z-index: 0;}#sk-container-id-1 div.sk-serial {display: flex;flex-direction: column;align-items: center;background-color: white;padding-right: 0.2em;padding-left: 0.2em;position: relative;}#sk-container-id-1 div.sk-item {position: relative;z-index: 1;}#sk-container-id-1 div.sk-parallel {display: flex;align-items: stretch;justify-content: center;background-color: white;position: relative;}#sk-container-id-1 div.sk-item::before, #sk-container-id-1 div.sk-parallel-item::before {content: \"\";position: absolute;border-left: 1px solid gray;box-sizing: border-box;top: 0;bottom: 0;left: 50%;z-index: -1;}#sk-container-id-1 div.sk-parallel-item {display: flex;flex-direction: column;z-index: 1;position: relative;background-color: white;}#sk-container-id-1 div.sk-parallel-item:first-child::after {align-self: flex-end;width: 50%;}#sk-container-id-1 div.sk-parallel-item:last-child::after {align-self: flex-start;width: 50%;}#sk-container-id-1 div.sk-parallel-item:only-child::after {width: 0;}#sk-container-id-1 div.sk-dashed-wrapped {border: 1px dashed gray;margin: 0 0.4em 0.5em 0.4em;box-sizing: border-box;padding-bottom: 0.4em;background-color: white;}#sk-container-id-1 div.sk-label label {font-family: monospace;font-weight: bold;display: inline-block;line-height: 1.2em;}#sk-container-id-1 div.sk-label-container {text-align: center;}#sk-container-id-1 div.sk-container {/* jupyter's `normalize.less` sets `[hidden] { display: none; }` but bootstrap.min.css set `[hidden] { display: none !important; }` so we also need the `!important` here to be able to override the default hidden behavior on the sphinx rendered scikit-learn.org. See: https://github.com/scikit-learn/scikit-learn/issues/21755 */display: inline-block !important;position: relative;}#sk-container-id-1 div.sk-text-repr-fallback {display: none;}</style><div id=\"sk-container-id-1\" class=\"sk-top-container\"><div class=\"sk-text-repr-fallback\"><pre>LinearRegression()</pre><b>In a Jupyter environment, please rerun this cell to show the HTML representation or trust the notebook. <br />On GitHub, the HTML representation is unable to render, please try loading this page with nbviewer.org.</b></div><div class=\"sk-container\" hidden><div class=\"sk-item\"><div class=\"sk-estimator sk-toggleable\"><input class=\"sk-toggleable__control sk-hidden--visually\" id=\"sk-estimator-id-1\" type=\"checkbox\" checked><label for=\"sk-estimator-id-1\" class=\"sk-toggleable__label sk-toggleable__label-arrow\">LinearRegression</label><div class=\"sk-toggleable__content\"><pre>LinearRegression()</pre></div></div></div></div></div>"
     },
     "execution_count": 10,
     "metadata": {},
     "output_type": "execute_result"
    }
   ],
   "source": [
    "# intialize the model to be fit and fit the model on the train data\n",
    "\n",
    "regression_model = LinearRegression()\n",
    "regression_model.fit(x_train, y_train)"
   ],
   "metadata": {
    "collapsed": false,
    "ExecuteTime": {
     "end_time": "2023-10-24T16:50:19.909559836Z",
     "start_time": "2023-10-24T16:50:19.867363503Z"
    }
   },
   "id": "b99c1791b51fcd23"
  },
  {
   "cell_type": "code",
   "execution_count": 11,
   "outputs": [
    {
     "name": "stdout",
     "output_type": "stream",
     "text": [
      "The score (R-squared) on the training set is  0.10989774103058536\n"
     ]
    }
   ],
   "source": [
    "print(\n",
    "    \"The score (R-squared) on the training set is \",\n",
    "    regression_model.score(x_train, y_train),\n",
    ")"
   ],
   "metadata": {
    "collapsed": false,
    "ExecuteTime": {
     "end_time": "2023-10-24T16:50:29.449463404Z",
     "start_time": "2023-10-24T16:50:29.420976644Z"
    }
   },
   "id": "d1e21091985244a8"
  },
  {
   "cell_type": "code",
   "execution_count": 12,
   "outputs": [
    {
     "name": "stdout",
     "output_type": "stream",
     "text": [
      "The score (R-squared) on the test set is  0.06755913295295113\n"
     ]
    }
   ],
   "source": [
    "print(\n",
    "    \"The score (R-squared) on the test set is \", regression_model.score(x_test, y_test)\n",
    ")"
   ],
   "metadata": {
    "collapsed": false,
    "ExecuteTime": {
     "end_time": "2023-10-24T16:50:56.520724770Z",
     "start_time": "2023-10-24T16:50:56.497479500Z"
    }
   },
   "id": "afe1f068de256cf"
  },
  {
   "cell_type": "code",
   "execution_count": null,
   "outputs": [],
   "source": [],
   "metadata": {
    "collapsed": false
   },
   "id": "500c9da2d3003bc1"
  },
  {
   "cell_type": "code",
   "execution_count": 13,
   "outputs": [],
   "source": [
    "# defining a function to compute different metrics to check performance of a classification model built using sklearn\n",
    "def model_performance_classification_sklearn(model, predictors, target):\n",
    "    \"\"\"\n",
    "    Function to compute different metrics to check classification model performance\n",
    "\n",
    "    model: classifier\n",
    "    predictors: independent variables\n",
    "    target: dependent variable\n",
    "    \"\"\"\n",
    "\n",
    "    # predicting using the independent variables\n",
    "    pred = model.predict(predictors)\n",
    "\n",
    "    acc = accuracy_score(target, pred)  # to compute Accuracy\n",
    "    recall = recall_score(target, pred)  # to compute Recall\n",
    "    precision = precision_score(target, pred)  # to compute Precision\n",
    "    f1 = f1_score(target, pred)  # to compute F1-score\n",
    "\n",
    "    # creating a dataframe of metrics\n",
    "    df_perf = pd.DataFrame(\n",
    "        {\"Accuracy\": acc, \"Recall\": recall, \"Precision\": precision, \"F1\": f1,},\n",
    "        index=[0],\n",
    "    )\n",
    "\n",
    "    return df_perf"
   ],
   "metadata": {
    "collapsed": false,
    "ExecuteTime": {
     "end_time": "2023-10-24T16:57:39.708800925Z",
     "start_time": "2023-10-24T16:57:39.667709035Z"
    }
   },
   "id": "5a26d7aa804ba7dc"
  },
  {
   "cell_type": "code",
   "execution_count": 14,
   "outputs": [],
   "source": [
    "from sklearn.model_selection import GridSearchCV\n",
    "\n",
    "# To get diferent metric scores\n",
    "\n",
    "\n",
    "from sklearn.metrics import (\n",
    "    f1_score,\n",
    "    accuracy_score,\n",
    "    recall_score,\n",
    "    precision_score,\n",
    "    confusion_matrix,\n",
    "    roc_auc_score,\n",
    "    ConfusionMatrixDisplay,\n",
    "    precision_recall_curve,\n",
    "    roc_curve,\n",
    "    make_scorer,\n",
    ")"
   ],
   "metadata": {
    "collapsed": false,
    "ExecuteTime": {
     "end_time": "2023-10-24T16:59:35.416522706Z",
     "start_time": "2023-10-24T16:59:35.374563737Z"
    }
   },
   "id": "534aac6ea4f616f7"
  },
  {
   "cell_type": "code",
   "execution_count": null,
   "outputs": [],
   "source": [],
   "metadata": {
    "collapsed": false
   },
   "id": "d9f5ca99471ed558"
  }
 ],
 "metadata": {
  "kernelspec": {
   "display_name": "Python 3",
   "language": "python",
   "name": "python3"
  },
  "language_info": {
   "codemirror_mode": {
    "name": "ipython",
    "version": 2
   },
   "file_extension": ".py",
   "mimetype": "text/x-python",
   "name": "python",
   "nbconvert_exporter": "python",
   "pygments_lexer": "ipython2",
   "version": "2.7.6"
  }
 },
 "nbformat": 4,
 "nbformat_minor": 5
}
