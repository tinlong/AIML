version https://git-lfs.github.com/spec/v1
oid sha256:6170726d97994df4cdaadf6aae8428d58c2c68ec54803cea9d10ccddd82b48e1
size 529380
