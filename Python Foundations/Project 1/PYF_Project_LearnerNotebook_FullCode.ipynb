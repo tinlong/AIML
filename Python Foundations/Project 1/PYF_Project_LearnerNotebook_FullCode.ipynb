{
 "cells": [
  {
   "cell_type": "markdown",
   "metadata": {
    "id": "Gc8x8QimJY_H"
   },
   "source": [
    "# Project Python Foundations: FoodHub Data Analysis\n",
    "\n",
    "**Marks: 60**"
   ]
  },
  {
   "cell_type": "markdown",
   "metadata": {
    "id": "NqikjkWwJY_L"
   },
   "source": [
    "### Context\n",
    "\n",
    "The number of restaurants in New York is increasing day by day. Lots of students and busy professionals rely on those restaurants due to their hectic lifestyles. Online food delivery service is a great option for them. It provides them with good food from their favorite restaurants. A food aggregator company FoodHub offers access to multiple restaurants through a single smartphone app.\n",
    "\n",
    "The app allows the restaurants to receive a direct online order from a customer. The app assigns a delivery person from the company to pick up the order after it is confirmed by the restaurant. The delivery person then uses the map to reach the restaurant and waits for the food package. Once the food package is handed over to the delivery person, he/she confirms the pick-up in the app and travels to the customer's location to deliver the food. The delivery person confirms the drop-off in the app after delivering the food package to the customer. The customer can rate the order in the app. The food aggregator earns money by collecting a fixed margin of the delivery order from the restaurants.\n",
    "\n",
    "### Objective\n",
    "\n",
    "The food aggregator company has stored the data of the different orders made by the registered customers in their online portal. They want to analyze the data to get a fair idea about the demand of different restaurants which will help them in enhancing their customer experience. Suppose you are hired as a Data Scientist in this company and the Data Science team has shared some of the key questions that need to be answered. Perform the data analysis to find answers to these questions that will help the company to improve the business.\n",
    "\n",
    "### Data Description\n",
    "\n",
    "The data contains the different data related to a food order. The detailed data dictionary is given below.\n",
    "\n",
    "### Data Dictionary\n",
    "\n",
    "* order_id: Unique ID of the order\n",
    "* customer_id: ID of the customer who ordered the food\n",
    "* restaurant_name: Name of the restaurant\n",
    "* cuisine_type: Cuisine ordered by the customer\n",
    "* cost: Cost of the order\n",
    "* day_of_the_week: Indicates whether the order is placed on a weekday or weekend (The weekday is from Monday to Friday and the weekend is Saturday and Sunday)\n",
    "* rating: Rating given by the customer out of 5\n",
    "* food_preparation_time: Time (in minutes) taken by the restaurant to prepare the food. This is calculated by taking the difference between the timestamps of the restaurant's order confirmation and the delivery person's pick-up confirmation.\n",
    "* delivery_time: Time (in minutes) taken by the delivery person to deliver the food package. This is calculated by taking the difference between the timestamps of the delivery person's pick-up confirmation and drop-off information"
   ]
  },
  {
   "cell_type": "markdown",
   "metadata": {
    "id": "cEtNUxNAJY_M"
   },
   "source": [
    "### Let us start by importing the required libraries"
   ]
  },
  {
   "cell_type": "code",
   "execution_count": 1,
   "metadata": {
    "id": "u6PlpJAPJY_N",
    "ExecuteTime": {
     "end_time": "2023-09-07T14:04:04.481180833Z",
     "start_time": "2023-09-07T14:04:04.479120623Z"
    }
   },
   "outputs": [],
   "source": [
    "# import libraries for data manipulation\n",
    "import numpy as np\n",
    "import pandas as pd\n",
    "\n",
    "# import libraries for data visualization\n",
    "import matplotlib.pyplot as plt\n",
    "import seaborn as sns"
   ]
  },
  {
   "cell_type": "markdown",
   "metadata": {
    "id": "AdracY0HJY_O"
   },
   "source": [
    "### Understanding the structure of the data"
   ]
  },
  {
   "cell_type": "code",
   "execution_count": 2,
   "metadata": {
    "id": "WBh2ZGB9kFhU",
    "ExecuteTime": {
     "end_time": "2023-09-07T14:04:08.625880302Z",
     "start_time": "2023-09-07T14:04:08.621070686Z"
    }
   },
   "outputs": [],
   "source": [
    "# uncomment and run the following lines for Google Colab\n",
    "# from google.colab import drive\n",
    "# drive.mount('/content/drive')\n",
    "\n",
    "file_url = 'https://raw.githubusercontent.com/tinlong/AIML/main/Python%20Foundations/Project%201/foodhub_order.csv'"
   ]
  },
  {
   "cell_type": "code",
   "execution_count": 3,
   "metadata": {
    "id": "GF01IZDbJY_O",
    "scrolled": true,
    "outputId": "43e41107-410d-461b-f045-751e2d75e84b",
    "colab": {
     "base_uri": "https://localhost:8080/",
     "height": 275
    },
    "ExecuteTime": {
     "end_time": "2023-09-07T14:04:11.940117745Z",
     "start_time": "2023-09-07T14:04:11.695469573Z"
    }
   },
   "outputs": [
    {
     "data": {
      "text/plain": "   order_id  customer_id            restaurant_name cuisine_type  \\\n0   1477147       337525                    Hangawi       Korean   \n1   1477685       358141  Blue Ribbon Sushi Izakaya     Japanese   \n2   1477070        66393                Cafe Habana      Mexican   \n3   1477334       106968  Blue Ribbon Fried Chicken     American   \n4   1478249        76942           Dirty Bird to Go     American   \n\n   cost_of_the_order day_of_the_week     rating  food_preparation_time  \\\n0              30.75         Weekend  Not given                     25   \n1              12.08         Weekend  Not given                     25   \n2              12.23         Weekday          5                     23   \n3              29.20         Weekend          3                     25   \n4              11.59         Weekday          4                     25   \n\n   delivery_time  \n0             20  \n1             23  \n2             28  \n3             15  \n4             24  ",
      "text/html": "<div>\n<style scoped>\n    .dataframe tbody tr th:only-of-type {\n        vertical-align: middle;\n    }\n\n    .dataframe tbody tr th {\n        vertical-align: top;\n    }\n\n    .dataframe thead th {\n        text-align: right;\n    }\n</style>\n<table border=\"1\" class=\"dataframe\">\n  <thead>\n    <tr style=\"text-align: right;\">\n      <th></th>\n      <th>order_id</th>\n      <th>customer_id</th>\n      <th>restaurant_name</th>\n      <th>cuisine_type</th>\n      <th>cost_of_the_order</th>\n      <th>day_of_the_week</th>\n      <th>rating</th>\n      <th>food_preparation_time</th>\n      <th>delivery_time</th>\n    </tr>\n  </thead>\n  <tbody>\n    <tr>\n      <th>0</th>\n      <td>1477147</td>\n      <td>337525</td>\n      <td>Hangawi</td>\n      <td>Korean</td>\n      <td>30.75</td>\n      <td>Weekend</td>\n      <td>Not given</td>\n      <td>25</td>\n      <td>20</td>\n    </tr>\n    <tr>\n      <th>1</th>\n      <td>1477685</td>\n      <td>358141</td>\n      <td>Blue Ribbon Sushi Izakaya</td>\n      <td>Japanese</td>\n      <td>12.08</td>\n      <td>Weekend</td>\n      <td>Not given</td>\n      <td>25</td>\n      <td>23</td>\n    </tr>\n    <tr>\n      <th>2</th>\n      <td>1477070</td>\n      <td>66393</td>\n      <td>Cafe Habana</td>\n      <td>Mexican</td>\n      <td>12.23</td>\n      <td>Weekday</td>\n      <td>5</td>\n      <td>23</td>\n      <td>28</td>\n    </tr>\n    <tr>\n      <th>3</th>\n      <td>1477334</td>\n      <td>106968</td>\n      <td>Blue Ribbon Fried Chicken</td>\n      <td>American</td>\n      <td>29.20</td>\n      <td>Weekend</td>\n      <td>3</td>\n      <td>25</td>\n      <td>15</td>\n    </tr>\n    <tr>\n      <th>4</th>\n      <td>1478249</td>\n      <td>76942</td>\n      <td>Dirty Bird to Go</td>\n      <td>American</td>\n      <td>11.59</td>\n      <td>Weekday</td>\n      <td>4</td>\n      <td>25</td>\n      <td>24</td>\n    </tr>\n  </tbody>\n</table>\n</div>"
     },
     "execution_count": 3,
     "metadata": {},
     "output_type": "execute_result"
    }
   ],
   "source": [
    "# read the data\n",
    "df = pd.read_csv(file_url)\n",
    "# returns the first 5 rows\n",
    "df.head()"
   ]
  },
  {
   "cell_type": "markdown",
   "metadata": {
    "id": "J_Y9aJDJJY_P"
   },
   "source": [
    "#### Observations:\n",
    "\n",
    "The DataFrame has 9 columns as mentioned in the Data Dictionary. Data in each row corresponds to the order placed by a customer."
   ]
  },
  {
   "cell_type": "markdown",
   "metadata": {
    "id": "c3kenV4vJY_Q"
   },
   "source": [
    "### **Question 1:** How many rows and columns are present in the data? [0.5 mark]"
   ]
  },
  {
   "cell_type": "code",
   "execution_count": 4,
   "metadata": {
    "id": "Yvz5i-PhJY_Q",
    "outputId": "6bbbbf35-9453-4f8a-a4cf-c42f7e8e7eb0",
    "colab": {
     "base_uri": "https://localhost:8080/"
    },
    "ExecuteTime": {
     "end_time": "2023-09-07T14:04:15.069085498Z",
     "start_time": "2023-09-07T14:04:15.065253842Z"
    }
   },
   "outputs": [
    {
     "data": {
      "text/plain": "(1898, 9)"
     },
     "execution_count": 4,
     "metadata": {},
     "output_type": "execute_result"
    }
   ],
   "source": [
    "# Write your code here\n",
    "# use shape to check on number of rows and columns\n",
    "df.shape"
   ]
  },
  {
   "cell_type": "markdown",
   "metadata": {
    "id": "UsTNy3unJY_R"
   },
   "source": [
    "#### Observations:\n",
    "Result: 1898 rows, 9 columns"
   ]
  },
  {
   "cell_type": "markdown",
   "metadata": {
    "id": "jRXakVrUJY_R"
   },
   "source": [
    "### **Question 2:** What are the datatypes of the different columns in the dataset? (The info() function can be used) [0.5 mark]"
   ]
  },
  {
   "cell_type": "code",
   "execution_count": 6,
   "metadata": {
    "id": "Kp70Z0BNJY_R",
    "outputId": "98b639d6-4f9f-442e-a038-41849c6ddfca",
    "colab": {
     "base_uri": "https://localhost:8080/"
    },
    "ExecuteTime": {
     "end_time": "2023-09-07T14:05:03.048665811Z",
     "start_time": "2023-09-07T14:05:02.990828477Z"
    }
   },
   "outputs": [
    {
     "name": "stdout",
     "output_type": "stream",
     "text": [
      "<class 'pandas.core.frame.DataFrame'>\n",
      "RangeIndex: 1898 entries, 0 to 1897\n",
      "Data columns (total 9 columns):\n",
      " #   Column                 Non-Null Count  Dtype  \n",
      "---  ------                 --------------  -----  \n",
      " 0   order_id               1898 non-null   int64  \n",
      " 1   customer_id            1898 non-null   int64  \n",
      " 2   restaurant_name        1898 non-null   object \n",
      " 3   cuisine_type           1898 non-null   object \n",
      " 4   cost_of_the_order      1898 non-null   float64\n",
      " 5   day_of_the_week        1898 non-null   object \n",
      " 6   rating                 1898 non-null   object \n",
      " 7   food_preparation_time  1898 non-null   int64  \n",
      " 8   delivery_time          1898 non-null   int64  \n",
      "dtypes: float64(1), int64(4), object(4)\n",
      "memory usage: 133.6+ KB\n"
     ]
    }
   ],
   "source": [
    "# Use info() to print a concise summary of the DataFrame\n",
    "df.info();"
   ]
  },
  {
   "cell_type": "markdown",
   "metadata": {
    "id": "WJes5GP2JY_S"
   },
   "source": [
    "#### Observations:\n",
    "\n",
    "- Both IDs (order and customer) are integer, which is expected. Also as integer are food_preparation_time and delivery_time.\n",
    "- Cost of the order is as of float64, which is expected.\n",
    "- Rating is imported as string, but in reality, the rating should be numerical (1-5). We need to check why this is the case."
   ]
  },
  {
   "cell_type": "code",
   "execution_count": 9,
   "outputs": [
    {
     "data": {
      "text/plain": "array(['Not given', '5', '3', '4'], dtype=object)"
     },
     "execution_count": 9,
     "metadata": {},
     "output_type": "execute_result"
    }
   ],
   "source": [
    "df['rating'].unique()"
   ],
   "metadata": {
    "collapsed": false,
    "ExecuteTime": {
     "end_time": "2023-09-07T14:05:20.426240554Z",
     "start_time": "2023-09-07T14:05:20.409011289Z"
    }
   }
  },
  {
   "cell_type": "markdown",
   "source": [
    "Ah-ha, values existed in this column is 5, 4, 3 (assuming stars) and \"Not given\". Something needs to be done in the cleanup."
   ],
   "metadata": {
    "collapsed": false
   }
  },
  {
   "cell_type": "markdown",
   "metadata": {
    "id": "pF_92MN6JY_S"
   },
   "source": [
    "### **Question 3:** Are there any missing values in the data? If yes, treat them using an appropriate method. [1 mark]"
   ]
  },
  {
   "cell_type": "code",
   "execution_count": 10,
   "metadata": {
    "id": "Zth-RR1PJY_S",
    "outputId": "a0099464-edc6-44e6-b282-f5db85a9ffc9",
    "colab": {
     "base_uri": "https://localhost:8080/"
    },
    "ExecuteTime": {
     "end_time": "2023-09-07T14:05:26.047787921Z",
     "start_time": "2023-09-07T14:05:26.041842734Z"
    }
   },
   "outputs": [
    {
     "name": "stdout",
     "output_type": "stream",
     "text": [
      "<class 'pandas.core.frame.DataFrame'>\n",
      "RangeIndex: 1898 entries, 0 to 1897\n",
      "Data columns (total 9 columns):\n",
      " #   Column                 Non-Null Count  Dtype  \n",
      "---  ------                 --------------  -----  \n",
      " 0   order_id               1898 non-null   int64  \n",
      " 1   customer_id            1898 non-null   int64  \n",
      " 2   restaurant_name        1898 non-null   object \n",
      " 3   cuisine_type           1898 non-null   object \n",
      " 4   cost_of_the_order      1898 non-null   float64\n",
      " 5   day_of_the_week        1898 non-null   object \n",
      " 6   rating                 1898 non-null   object \n",
      " 7   food_preparation_time  1898 non-null   int64  \n",
      " 8   delivery_time          1898 non-null   int64  \n",
      "dtypes: float64(1), int64(4), object(4)\n",
      "memory usage: 133.6+ KB\n"
     ]
    }
   ],
   "source": [
    "# According to df.info()\n",
    "\n",
    "df.info()"
   ]
  },
  {
   "cell_type": "markdown",
   "source": [
    "It looks like there are no NULL nor NA values exists.\n",
    "\n",
    "However, looking at the imported dataframe again, the first two **rating** entries are \"Not given\". Is this missing value, or is this a valid choice? Chances are, it is missing not because of data collection error, but like a user really did not put in any star rating. In this case, \"Not given\" is a valid choice. This has a couple of complications:\n",
    "\n",
    "1. The entries in 'rating' is categorical.\n",
    "2. But we still want rating in numerical format for some other analysis."
   ],
   "metadata": {
    "id": "7D4DW3tLQdBF"
   }
  },
  {
   "cell_type": "code",
   "source": [
    "# 1. Make rating's \"Not given\" to become null/NA\n",
    "# 2. Change the rating column to be int64\n",
    "# Assign the result into a new column.\n",
    "\n",
    "df['rating_num'] = df['rating'].replace(\"Not given\", np.nan).astype('float')"
   ],
   "metadata": {
    "id": "2jEfBpGBRapP",
    "ExecuteTime": {
     "end_time": "2023-09-07T14:05:29.289883143Z",
     "start_time": "2023-09-07T14:05:29.273398958Z"
    }
   },
   "execution_count": 11,
   "outputs": []
  },
  {
   "cell_type": "code",
   "execution_count": 9,
   "outputs": [
    {
     "name": "stdout",
     "output_type": "stream",
     "text": [
      "<class 'pandas.core.frame.DataFrame'>\n",
      "RangeIndex: 1898 entries, 0 to 1897\n",
      "Data columns (total 10 columns):\n",
      " #   Column                 Non-Null Count  Dtype  \n",
      "---  ------                 --------------  -----  \n",
      " 0   order_id               1898 non-null   int64  \n",
      " 1   customer_id            1898 non-null   int64  \n",
      " 2   restaurant_name        1898 non-null   object \n",
      " 3   cuisine_type           1898 non-null   object \n",
      " 4   cost_of_the_order      1898 non-null   float64\n",
      " 5   day_of_the_week        1898 non-null   object \n",
      " 6   rating                 1898 non-null   object \n",
      " 7   food_preparation_time  1898 non-null   int64  \n",
      " 8   delivery_time          1898 non-null   int64  \n",
      " 9   rating_num             1162 non-null   float64\n",
      "dtypes: float64(2), int64(4), object(4)\n",
      "memory usage: 148.4+ KB\n"
     ]
    }
   ],
   "source": [
    "df.info()"
   ],
   "metadata": {
    "collapsed": false,
    "ExecuteTime": {
     "end_time": "2023-09-06T16:01:07.667341300Z",
     "start_time": "2023-09-06T16:01:07.656323100Z"
    }
   }
  },
  {
   "cell_type": "markdown",
   "metadata": {
    "id": "jDHT3vD1JY_S"
   },
   "source": [
    "#### Observations:\n",
    "\n",
    "Rating (when cast as numeric) has missing values. 1898 - 1162 = 736 missing (38.78%)"
   ]
  },
  {
   "cell_type": "markdown",
   "metadata": {
    "id": "MnJo7MWrJY_S"
   },
   "source": [
    "### **Question 4:** Check the statistical summary of the data. What is the minimum, average, and maximum time it takes for food to be prepared once an order is placed? [2 marks]"
   ]
  },
  {
   "cell_type": "code",
   "execution_count": 12,
   "metadata": {
    "id": "WprQBgOSJY_T",
    "ExecuteTime": {
     "end_time": "2023-09-07T14:13:31.765942566Z",
     "start_time": "2023-09-07T14:13:31.738061216Z"
    }
   },
   "outputs": [
    {
     "data": {
      "text/plain": "                        count unique          top  freq           mean  \\\norder_id               1898.0    NaN          NaN   NaN      1477495.5   \ncustomer_id            1898.0    NaN          NaN   NaN  171168.478398   \nrestaurant_name          1898    178  Shake Shack   219            NaN   \ncuisine_type             1898     14     American   584            NaN   \ncost_of_the_order      1898.0    NaN          NaN   NaN      16.498851   \nday_of_the_week          1898      2      Weekend  1351            NaN   \nrating                   1898      4    Not given   736            NaN   \nfood_preparation_time  1898.0    NaN          NaN   NaN       27.37197   \ndelivery_time          1898.0    NaN          NaN   NaN      24.161749   \nrating_num             1162.0    NaN          NaN   NaN       4.344234   \n\n                                 std        min         25%        50%  \\\norder_id                  548.049724  1476547.0  1477021.25  1477495.5   \ncustomer_id            113698.139743     1311.0    77787.75   128600.0   \nrestaurant_name                  NaN        NaN         NaN        NaN   \ncuisine_type                     NaN        NaN         NaN        NaN   \ncost_of_the_order           7.483812       4.47       12.08      14.14   \nday_of_the_week                  NaN        NaN         NaN        NaN   \nrating                           NaN        NaN         NaN        NaN   \nfood_preparation_time       4.632481       20.0        23.0       27.0   \ndelivery_time               4.972637       15.0        20.0       25.0   \nrating_num                  0.741478        3.0         4.0        5.0   \n\n                              75%        max  \norder_id               1477969.75  1478444.0  \ncustomer_id              270525.0   405334.0  \nrestaurant_name               NaN        NaN  \ncuisine_type                  NaN        NaN  \ncost_of_the_order         22.2975      35.41  \nday_of_the_week               NaN        NaN  \nrating                        NaN        NaN  \nfood_preparation_time        31.0       35.0  \ndelivery_time                28.0       33.0  \nrating_num                    5.0        5.0  ",
      "text/html": "<div>\n<style scoped>\n    .dataframe tbody tr th:only-of-type {\n        vertical-align: middle;\n    }\n\n    .dataframe tbody tr th {\n        vertical-align: top;\n    }\n\n    .dataframe thead th {\n        text-align: right;\n    }\n</style>\n<table border=\"1\" class=\"dataframe\">\n  <thead>\n    <tr style=\"text-align: right;\">\n      <th></th>\n      <th>count</th>\n      <th>unique</th>\n      <th>top</th>\n      <th>freq</th>\n      <th>mean</th>\n      <th>std</th>\n      <th>min</th>\n      <th>25%</th>\n      <th>50%</th>\n      <th>75%</th>\n      <th>max</th>\n    </tr>\n  </thead>\n  <tbody>\n    <tr>\n      <th>order_id</th>\n      <td>1898.0</td>\n      <td>NaN</td>\n      <td>NaN</td>\n      <td>NaN</td>\n      <td>1477495.5</td>\n      <td>548.049724</td>\n      <td>1476547.0</td>\n      <td>1477021.25</td>\n      <td>1477495.5</td>\n      <td>1477969.75</td>\n      <td>1478444.0</td>\n    </tr>\n    <tr>\n      <th>customer_id</th>\n      <td>1898.0</td>\n      <td>NaN</td>\n      <td>NaN</td>\n      <td>NaN</td>\n      <td>171168.478398</td>\n      <td>113698.139743</td>\n      <td>1311.0</td>\n      <td>77787.75</td>\n      <td>128600.0</td>\n      <td>270525.0</td>\n      <td>405334.0</td>\n    </tr>\n    <tr>\n      <th>restaurant_name</th>\n      <td>1898</td>\n      <td>178</td>\n      <td>Shake Shack</td>\n      <td>219</td>\n      <td>NaN</td>\n      <td>NaN</td>\n      <td>NaN</td>\n      <td>NaN</td>\n      <td>NaN</td>\n      <td>NaN</td>\n      <td>NaN</td>\n    </tr>\n    <tr>\n      <th>cuisine_type</th>\n      <td>1898</td>\n      <td>14</td>\n      <td>American</td>\n      <td>584</td>\n      <td>NaN</td>\n      <td>NaN</td>\n      <td>NaN</td>\n      <td>NaN</td>\n      <td>NaN</td>\n      <td>NaN</td>\n      <td>NaN</td>\n    </tr>\n    <tr>\n      <th>cost_of_the_order</th>\n      <td>1898.0</td>\n      <td>NaN</td>\n      <td>NaN</td>\n      <td>NaN</td>\n      <td>16.498851</td>\n      <td>7.483812</td>\n      <td>4.47</td>\n      <td>12.08</td>\n      <td>14.14</td>\n      <td>22.2975</td>\n      <td>35.41</td>\n    </tr>\n    <tr>\n      <th>day_of_the_week</th>\n      <td>1898</td>\n      <td>2</td>\n      <td>Weekend</td>\n      <td>1351</td>\n      <td>NaN</td>\n      <td>NaN</td>\n      <td>NaN</td>\n      <td>NaN</td>\n      <td>NaN</td>\n      <td>NaN</td>\n      <td>NaN</td>\n    </tr>\n    <tr>\n      <th>rating</th>\n      <td>1898</td>\n      <td>4</td>\n      <td>Not given</td>\n      <td>736</td>\n      <td>NaN</td>\n      <td>NaN</td>\n      <td>NaN</td>\n      <td>NaN</td>\n      <td>NaN</td>\n      <td>NaN</td>\n      <td>NaN</td>\n    </tr>\n    <tr>\n      <th>food_preparation_time</th>\n      <td>1898.0</td>\n      <td>NaN</td>\n      <td>NaN</td>\n      <td>NaN</td>\n      <td>27.37197</td>\n      <td>4.632481</td>\n      <td>20.0</td>\n      <td>23.0</td>\n      <td>27.0</td>\n      <td>31.0</td>\n      <td>35.0</td>\n    </tr>\n    <tr>\n      <th>delivery_time</th>\n      <td>1898.0</td>\n      <td>NaN</td>\n      <td>NaN</td>\n      <td>NaN</td>\n      <td>24.161749</td>\n      <td>4.972637</td>\n      <td>15.0</td>\n      <td>20.0</td>\n      <td>25.0</td>\n      <td>28.0</td>\n      <td>33.0</td>\n    </tr>\n    <tr>\n      <th>rating_num</th>\n      <td>1162.0</td>\n      <td>NaN</td>\n      <td>NaN</td>\n      <td>NaN</td>\n      <td>4.344234</td>\n      <td>0.741478</td>\n      <td>3.0</td>\n      <td>4.0</td>\n      <td>5.0</td>\n      <td>5.0</td>\n      <td>5.0</td>\n    </tr>\n  </tbody>\n</table>\n</div>"
     },
     "execution_count": 12,
     "metadata": {},
     "output_type": "execute_result"
    }
   ],
   "source": [
    "# Write your code here\n",
    "df.describe(include='all').T"
   ]
  },
  {
   "cell_type": "markdown",
   "metadata": {
    "id": "9YbSOR5wJY_T"
   },
   "source": [
    "#### Observations:\n",
    "\n",
    "For food preparation time:\n",
    "\n",
    "- Minimum: 20 minutes\n",
    "- Average (mean): 27.37 minutes\n",
    "- Maximum: 35 minutes"
   ]
  },
  {
   "cell_type": "markdown",
   "metadata": {
    "id": "cw3l58z_JY_T"
   },
   "source": [
    "### **Question 5:** How many orders are not rated? [1 mark]"
   ]
  },
  {
   "cell_type": "code",
   "execution_count": 13,
   "metadata": {
    "id": "hEzDUL9wgksi",
    "ExecuteTime": {
     "end_time": "2023-09-07T14:13:35.690770917Z",
     "start_time": "2023-09-07T14:13:35.649950905Z"
    }
   },
   "outputs": [
    {
     "data": {
      "text/plain": "rating\nNot given    736\n5            588\n4            386\n3            188\nName: count, dtype: int64"
     },
     "execution_count": 13,
     "metadata": {},
     "output_type": "execute_result"
    }
   ],
   "source": [
    "# Write the code here\n",
    "df['rating'].value_counts()"
   ]
  },
  {
   "cell_type": "markdown",
   "metadata": {
    "id": "5E0O_oviJY_T"
   },
   "source": [
    "#### Observations:\n",
    "\n",
    "Ans: 736 records had ratings \"Not given\"."
   ]
  },
  {
   "cell_type": "markdown",
   "metadata": {
    "id": "7msIfXE-JY_T"
   },
   "source": [
    "### Exploratory Data Analysis (EDA)"
   ]
  },
  {
   "cell_type": "markdown",
   "metadata": {
    "id": "-2xfI28YJY_T"
   },
   "source": [
    "### Univariate Analysis"
   ]
  },
  {
   "cell_type": "markdown",
   "metadata": {
    "id": "0RHZnugBJY_U"
   },
   "source": [
    "### **Question 6:** Explore all the variables and provide observations on their distributions. (Generally, histograms, boxplots, countplots, etc. are used for univariate exploration.) [9 marks]"
   ]
  },
  {
   "cell_type": "code",
   "execution_count": 14,
   "metadata": {
    "id": "rU5ZqISjJY_U",
    "ExecuteTime": {
     "end_time": "2023-09-07T14:13:41.547574024Z",
     "start_time": "2023-09-07T14:13:41.409955027Z"
    }
   },
   "outputs": [
    {
     "data": {
      "text/plain": "<Figure size 640x480 with 1 Axes>",
      "image/png": "[encoded data removed]"
     },
     "metadata": {},
     "output_type": "display_data"
    }
   ],
   "source": [
    "# Cuisine Type\n",
    "\n",
    "sns.countplot(data=df, y='cuisine_type', order=df['cuisine_type'].value_counts().index)\n",
    "plt.show()"
   ]
  },
  {
   "cell_type": "markdown",
   "source": [
    "#### Observations:\n",
    "\n",
    "For cuisine type, most people order American food, followed by Japanese, Italian and Chinese."
   ],
   "metadata": {
    "collapsed": false
   }
  },
  {
   "cell_type": "code",
   "execution_count": 15,
   "outputs": [
    {
     "data": {
      "text/plain": "178"
     },
     "execution_count": 15,
     "metadata": {},
     "output_type": "execute_result"
    }
   ],
   "source": [
    "df.restaurant_name.unique().size"
   ],
   "metadata": {
    "collapsed": false,
    "ExecuteTime": {
     "end_time": "2023-09-07T14:13:45.423289592Z",
     "start_time": "2023-09-07T14:13:45.416123905Z"
    }
   }
  },
  {
   "cell_type": "markdown",
   "source": [
    "We have a total of 178 restaurants here. The graph would become so condense that it does not make sense to display them."
   ],
   "metadata": {
    "collapsed": false
   }
  },
  {
   "cell_type": "code",
   "execution_count": 16,
   "outputs": [
    {
     "data": {
      "text/plain": "<Figure size 640x480 with 1 Axes>",
      "image/png": "[encoded data removed]"
     },
     "metadata": {},
     "output_type": "display_data"
    },
    {
     "data": {
      "text/plain": "<Figure size 640x480 with 1 Axes>",
      "image/png": "[encoded data removed]"
     },
     "metadata": {},
     "output_type": "display_data"
    }
   ],
   "source": [
    "sns.histplot(data=df, x='cost_of_the_order', kde=True)\n",
    "plt.show()\n",
    "sns.boxplot(data=df, x='cost_of_the_order')\n",
    "plt.show()"
   ],
   "metadata": {
    "collapsed": false,
    "ExecuteTime": {
     "end_time": "2023-09-07T14:13:49.330567847Z",
     "start_time": "2023-09-07T14:13:49.123888873Z"
    }
   }
  },
  {
   "cell_type": "markdown",
   "source": [
    "#### Observations:\n",
    "\n",
    "Most people places order costing around 10-20 dollars, with cheapest as 5 dollars and most expensive as 35 dollars. The data seems right skewed, and there is no outliers as the graph's concern."
   ],
   "metadata": {
    "collapsed": false
   }
  },
  {
   "cell_type": "code",
   "execution_count": 17,
   "outputs": [
    {
     "data": {
      "text/plain": "<Figure size 640x480 with 1 Axes>",
      "image/png": "[encoded data removed]"
     },
     "metadata": {},
     "output_type": "display_data"
    },
    {
     "data": {
      "text/plain": "'71.18%'"
     },
     "execution_count": 17,
     "metadata": {},
     "output_type": "execute_result"
    }
   ],
   "source": [
    "sns.countplot(data=df, x='day_of_the_week')\n",
    "plt.show()\n",
    "f\"{df[df.day_of_the_week == 'Weekend']['order_id'].count() / df['order_id'].count():.2%}\""
   ],
   "metadata": {
    "collapsed": false,
    "ExecuteTime": {
     "end_time": "2023-09-07T14:13:53.063174219Z",
     "start_time": "2023-09-07T14:13:53.003097781Z"
    }
   }
  },
  {
   "cell_type": "markdown",
   "source": [
    "Most orders were placed in the weekend (71.18%)."
   ],
   "metadata": {
    "collapsed": false
   }
  },
  {
   "cell_type": "code",
   "execution_count": 18,
   "outputs": [
    {
     "data": {
      "text/plain": "<Figure size 640x480 with 1 Axes>",
      "image/png": "[encoded data removed]"
     },
     "metadata": {},
     "output_type": "display_data"
    },
    {
     "data": {
      "text/plain": "<Figure size 640x480 with 1 Axes>",
      "image/png": "[encoded data removed]"
     },
     "metadata": {},
     "output_type": "display_data"
    }
   ],
   "source": [
    "sns.histplot(data=df, x='food_preparation_time', kde=True)\n",
    "plt.show()\n",
    "sns.boxplot(data=df, x='food_preparation_time')\n",
    "plt.show()"
   ],
   "metadata": {
    "collapsed": false,
    "ExecuteTime": {
     "end_time": "2023-09-07T14:13:57.168578267Z",
     "start_time": "2023-09-07T14:13:56.964322159Z"
    }
   }
  },
  {
   "cell_type": "markdown",
   "source": [
    "#### Observations:\n",
    "\n",
    "Food preparation time appears to be pretty evenly distributed. "
   ],
   "metadata": {
    "collapsed": false
   }
  },
  {
   "cell_type": "code",
   "execution_count": 19,
   "outputs": [
    {
     "data": {
      "text/plain": "<Figure size 640x480 with 1 Axes>",
      "image/png": "[encoded data removed]"
     },
     "metadata": {},
     "output_type": "display_data"
    },
    {
     "data": {
      "text/plain": "<Figure size 640x480 with 1 Axes>",
      "image/png": "[encoded data removed]"
     },
     "metadata": {},
     "output_type": "display_data"
    }
   ],
   "source": [
    "sns.histplot(data=df, x='delivery_time', kde=True)\n",
    "plt.show()\n",
    "sns.boxplot(data=df, x='delivery_time')\n",
    "plt.show()"
   ],
   "metadata": {
    "collapsed": false,
    "ExecuteTime": {
     "end_time": "2023-09-07T14:13:59.699326264Z",
     "start_time": "2023-09-07T14:13:59.508364486Z"
    }
   }
  },
  {
   "cell_type": "markdown",
   "source": [
    "Delivery time seems to be a bit left skewed, with the majority of orders needing about 25-30 minutes to deliver."
   ],
   "metadata": {
    "collapsed": false
   }
  },
  {
   "cell_type": "code",
   "execution_count": 20,
   "outputs": [
    {
     "data": {
      "text/plain": "count    1898.000000\nmean       51.533720\nstd         6.833603\nmin        35.000000\n25%        47.000000\n50%        52.000000\n75%        56.000000\nmax        68.000000\nName: total_time, dtype: float64"
     },
     "execution_count": 20,
     "metadata": {},
     "output_type": "execute_result"
    }
   ],
   "source": [
    "df['total_time'] = df['food_preparation_time'] + df['delivery_time']\n",
    "\n",
    "df['total_time'].describe()"
   ],
   "metadata": {
    "collapsed": false,
    "ExecuteTime": {
     "end_time": "2023-09-07T14:14:05.015657728Z",
     "start_time": "2023-09-07T14:14:05.003640813Z"
    }
   }
  },
  {
   "cell_type": "code",
   "execution_count": 21,
   "outputs": [
    {
     "data": {
      "text/plain": "<Figure size 640x480 with 1 Axes>",
      "image/png": "[encoded data removed]"
     },
     "metadata": {},
     "output_type": "display_data"
    },
    {
     "data": {
      "text/plain": "<Figure size 640x480 with 1 Axes>",
      "image/png": "[encoded data removed]"
     },
     "metadata": {},
     "output_type": "display_data"
    }
   ],
   "source": [
    "sns.histplot(data=df, x='total_time', kde=True)\n",
    "plt.show()\n",
    "sns.boxplot(data=df, x='total_time')\n",
    "plt.show()"
   ],
   "metadata": {
    "collapsed": false,
    "ExecuteTime": {
     "end_time": "2023-09-07T14:14:08.105713562Z",
     "start_time": "2023-09-07T14:14:07.884139725Z"
    }
   }
  },
  {
   "cell_type": "markdown",
   "source": [
    "If we add up the food preparation time and delivery time to indicate the actual order's fulfillment time, the order fulfillment is normally distributed."
   ],
   "metadata": {
    "collapsed": false
   }
  },
  {
   "cell_type": "code",
   "execution_count": 22,
   "outputs": [
    {
     "data": {
      "text/plain": "<Figure size 640x480 with 1 Axes>",
      "image/png": "[encoded data removed]"
     },
     "metadata": {},
     "output_type": "display_data"
    }
   ],
   "source": [
    "sns.countplot(data=df, x='rating');"
   ],
   "metadata": {
    "collapsed": false,
    "ExecuteTime": {
     "end_time": "2023-09-07T14:14:20.937347827Z",
     "start_time": "2023-09-07T14:14:20.856947248Z"
    }
   }
  },
  {
   "cell_type": "markdown",
   "source": [
    "Most orders was not given a rating. For those that were given ratings, only a few got the lowest '3', which is still not bad - but perhaps the users were being polite."
   ],
   "metadata": {
    "collapsed": false
   }
  },
  {
   "cell_type": "markdown",
   "metadata": {
    "id": "K9CqA5H_JY_U"
   },
   "source": [
    "### **Question 7**: Which are the top 5 restaurants in terms of the number of orders received? [1 mark]"
   ]
  },
  {
   "cell_type": "code",
   "execution_count": 23,
   "metadata": {
    "id": "PaJZ3wlOJY_U",
    "ExecuteTime": {
     "end_time": "2023-09-07T14:14:24.826841639Z",
     "start_time": "2023-09-07T14:14:24.810402556Z"
    }
   },
   "outputs": [
    {
     "data": {
      "text/plain": "               restaurant_name  count\n136                Shake Shack    219\n153          The Meatball Shop    132\n21           Blue Ribbon Sushi    119\n20   Blue Ribbon Fried Chicken     96\n109                       Parm     68",
      "text/html": "<div>\n<style scoped>\n    .dataframe tbody tr th:only-of-type {\n        vertical-align: middle;\n    }\n\n    .dataframe tbody tr th {\n        vertical-align: top;\n    }\n\n    .dataframe thead th {\n        text-align: right;\n    }\n</style>\n<table border=\"1\" class=\"dataframe\">\n  <thead>\n    <tr style=\"text-align: right;\">\n      <th></th>\n      <th>restaurant_name</th>\n      <th>count</th>\n    </tr>\n  </thead>\n  <tbody>\n    <tr>\n      <th>136</th>\n      <td>Shake Shack</td>\n      <td>219</td>\n    </tr>\n    <tr>\n      <th>153</th>\n      <td>The Meatball Shop</td>\n      <td>132</td>\n    </tr>\n    <tr>\n      <th>21</th>\n      <td>Blue Ribbon Sushi</td>\n      <td>119</td>\n    </tr>\n    <tr>\n      <th>20</th>\n      <td>Blue Ribbon Fried Chicken</td>\n      <td>96</td>\n    </tr>\n    <tr>\n      <th>109</th>\n      <td>Parm</td>\n      <td>68</td>\n    </tr>\n  </tbody>\n</table>\n</div>"
     },
     "execution_count": 23,
     "metadata": {},
     "output_type": "execute_result"
    }
   ],
   "source": [
    "df.groupby(['restaurant_name'])['order_id'].count().reset_index(name='count').sort_values(['count'], ascending=False).head(5)"
   ]
  },
  {
   "cell_type": "markdown",
   "metadata": {
    "id": "tnjhWgUfJY_U"
   },
   "source": [
    "#### Observations:\n",
    "\n",
    "The top 5 restaurants in terms of the number of orders received are Shake Shack, The Meatball Shop, Blue Ribbon Sushi, Blue Ribbon Fried Chicken and Parm"
   ]
  },
  {
   "cell_type": "markdown",
   "metadata": {
    "id": "gWPMqGq0JY_U"
   },
   "source": [
    "### **Question 8**: Which is the most popular cuisine on weekends? [1 mark]"
   ]
  },
  {
   "cell_type": "code",
   "execution_count": 24,
   "metadata": {
    "id": "c-Xnus3VJY_U",
    "ExecuteTime": {
     "end_time": "2023-09-07T14:14:27.973362338Z",
     "start_time": "2023-09-07T14:14:27.970898139Z"
    }
   },
   "outputs": [
    {
     "data": {
      "text/plain": "  cuisine_type  count\n0     American    415\n5     Japanese    335\n4      Italian    207\n1      Chinese    163\n8      Mexican     53",
      "text/html": "<div>\n<style scoped>\n    .dataframe tbody tr th:only-of-type {\n        vertical-align: middle;\n    }\n\n    .dataframe tbody tr th {\n        vertical-align: top;\n    }\n\n    .dataframe thead th {\n        text-align: right;\n    }\n</style>\n<table border=\"1\" class=\"dataframe\">\n  <thead>\n    <tr style=\"text-align: right;\">\n      <th></th>\n      <th>cuisine_type</th>\n      <th>count</th>\n    </tr>\n  </thead>\n  <tbody>\n    <tr>\n      <th>0</th>\n      <td>American</td>\n      <td>415</td>\n    </tr>\n    <tr>\n      <th>5</th>\n      <td>Japanese</td>\n      <td>335</td>\n    </tr>\n    <tr>\n      <th>4</th>\n      <td>Italian</td>\n      <td>207</td>\n    </tr>\n    <tr>\n      <th>1</th>\n      <td>Chinese</td>\n      <td>163</td>\n    </tr>\n    <tr>\n      <th>8</th>\n      <td>Mexican</td>\n      <td>53</td>\n    </tr>\n  </tbody>\n</table>\n</div>"
     },
     "execution_count": 24,
     "metadata": {},
     "output_type": "execute_result"
    }
   ],
   "source": [
    "df[df.day_of_the_week == 'Weekend'].groupby(['cuisine_type'])['order_id'].count().reset_index(name='count').sort_values(['count'], ascending=False).head(5)"
   ]
  },
  {
   "cell_type": "markdown",
   "metadata": {
    "id": "bpQ270TUJY_U"
   },
   "source": [
    "#### Observations:\n",
    "\n",
    "American is the most popular cuisine on weekends"
   ]
  },
  {
   "cell_type": "markdown",
   "metadata": {
    "id": "88xgTqkxJY_U"
   },
   "source": [
    "### **Question 9**: What percentage of the orders cost more than 20 dollars? [2 marks]"
   ]
  },
  {
   "cell_type": "code",
   "execution_count": 25,
   "metadata": {
    "id": "OTpHyTdzJY_U",
    "ExecuteTime": {
     "end_time": "2023-09-07T14:14:31.640110149Z",
     "start_time": "2023-09-07T14:14:31.628808429Z"
    }
   },
   "outputs": [
    {
     "data": {
      "text/plain": "'29.24%'"
     },
     "execution_count": 25,
     "metadata": {},
     "output_type": "execute_result"
    }
   ],
   "source": [
    "f\"{df[df.cost_of_the_order > 20]['order_id'].count() / df['order_id'].count():.2%}\""
   ]
  },
  {
   "cell_type": "markdown",
   "metadata": {
    "id": "77KNAC5zJY_U"
   },
   "source": [
    "#### Observations:\n",
    "\n",
    "29.24% of the orders are more than $20."
   ]
  },
  {
   "cell_type": "markdown",
   "metadata": {
    "id": "HFyHn7hsJY_V"
   },
   "source": [
    "### **Question 10**: What is the mean order delivery time? [1 mark]"
   ]
  },
  {
   "cell_type": "code",
   "execution_count": 26,
   "metadata": {
    "id": "cyFL13hNJY_V",
    "ExecuteTime": {
     "end_time": "2023-09-07T14:14:35.858676374Z",
     "start_time": "2023-09-07T14:14:35.815555089Z"
    }
   },
   "outputs": [
    {
     "data": {
      "text/plain": "           order_id    customer_id  cost_of_the_order  food_preparation_time  \\\ncount  1.898000e+03    1898.000000        1898.000000            1898.000000   \nmean   1.477496e+06  171168.478398          16.498851              27.371970   \nstd    5.480497e+02  113698.139743           7.483812               4.632481   \nmin    1.476547e+06    1311.000000           4.470000              20.000000   \n25%    1.477021e+06   77787.750000          12.080000              23.000000   \n50%    1.477496e+06  128600.000000          14.140000              27.000000   \n75%    1.477970e+06  270525.000000          22.297500              31.000000   \nmax    1.478444e+06  405334.000000          35.410000              35.000000   \n\n       delivery_time   rating_num   total_time  \ncount    1898.000000  1162.000000  1898.000000  \nmean       24.161749     4.344234    51.533720  \nstd         4.972637     0.741478     6.833603  \nmin        15.000000     3.000000    35.000000  \n25%        20.000000     4.000000    47.000000  \n50%        25.000000     5.000000    52.000000  \n75%        28.000000     5.000000    56.000000  \nmax        33.000000     5.000000    68.000000  ",
      "text/html": "<div>\n<style scoped>\n    .dataframe tbody tr th:only-of-type {\n        vertical-align: middle;\n    }\n\n    .dataframe tbody tr th {\n        vertical-align: top;\n    }\n\n    .dataframe thead th {\n        text-align: right;\n    }\n</style>\n<table border=\"1\" class=\"dataframe\">\n  <thead>\n    <tr style=\"text-align: right;\">\n      <th></th>\n      <th>order_id</th>\n      <th>customer_id</th>\n      <th>cost_of_the_order</th>\n      <th>food_preparation_time</th>\n      <th>delivery_time</th>\n      <th>rating_num</th>\n      <th>total_time</th>\n    </tr>\n  </thead>\n  <tbody>\n    <tr>\n      <th>count</th>\n      <td>1.898000e+03</td>\n      <td>1898.000000</td>\n      <td>1898.000000</td>\n      <td>1898.000000</td>\n      <td>1898.000000</td>\n      <td>1162.000000</td>\n      <td>1898.000000</td>\n    </tr>\n    <tr>\n      <th>mean</th>\n      <td>1.477496e+06</td>\n      <td>171168.478398</td>\n      <td>16.498851</td>\n      <td>27.371970</td>\n      <td>24.161749</td>\n      <td>4.344234</td>\n      <td>51.533720</td>\n    </tr>\n    <tr>\n      <th>std</th>\n      <td>5.480497e+02</td>\n      <td>113698.139743</td>\n      <td>7.483812</td>\n      <td>4.632481</td>\n      <td>4.972637</td>\n      <td>0.741478</td>\n      <td>6.833603</td>\n    </tr>\n    <tr>\n      <th>min</th>\n      <td>1.476547e+06</td>\n      <td>1311.000000</td>\n      <td>4.470000</td>\n      <td>20.000000</td>\n      <td>15.000000</td>\n      <td>3.000000</td>\n      <td>35.000000</td>\n    </tr>\n    <tr>\n      <th>25%</th>\n      <td>1.477021e+06</td>\n      <td>77787.750000</td>\n      <td>12.080000</td>\n      <td>23.000000</td>\n      <td>20.000000</td>\n      <td>4.000000</td>\n      <td>47.000000</td>\n    </tr>\n    <tr>\n      <th>50%</th>\n      <td>1.477496e+06</td>\n      <td>128600.000000</td>\n      <td>14.140000</td>\n      <td>27.000000</td>\n      <td>25.000000</td>\n      <td>5.000000</td>\n      <td>52.000000</td>\n    </tr>\n    <tr>\n      <th>75%</th>\n      <td>1.477970e+06</td>\n      <td>270525.000000</td>\n      <td>22.297500</td>\n      <td>31.000000</td>\n      <td>28.000000</td>\n      <td>5.000000</td>\n      <td>56.000000</td>\n    </tr>\n    <tr>\n      <th>max</th>\n      <td>1.478444e+06</td>\n      <td>405334.000000</td>\n      <td>35.410000</td>\n      <td>35.000000</td>\n      <td>33.000000</td>\n      <td>5.000000</td>\n      <td>68.000000</td>\n    </tr>\n  </tbody>\n</table>\n</div>"
     },
     "execution_count": 26,
     "metadata": {},
     "output_type": "execute_result"
    }
   ],
   "source": [
    "df.describe()"
   ]
  },
  {
   "cell_type": "markdown",
   "metadata": {
    "id": "F35SRV-HJY_V"
   },
   "source": [
    "#### Observations:\n",
    "\n",
    "Mean delivery time is 24.16 minutes"
   ]
  },
  {
   "cell_type": "markdown",
   "metadata": {
    "id": "48IjaOuDJY_V"
   },
   "source": [
    "### **Question 11:** The company has decided to give 20% discount vouchers to the top 3 most frequent customers. Find the IDs of these customers and the number of orders they placed. [1 mark]"
   ]
  },
  {
   "cell_type": "code",
   "execution_count": 27,
   "metadata": {
    "id": "Hz8-DE4Zge0j",
    "ExecuteTime": {
     "end_time": "2023-09-07T14:14:39.565289209Z",
     "start_time": "2023-09-07T14:14:39.556511540Z"
    }
   },
   "outputs": [
    {
     "data": {
      "text/plain": "     customer_id  count\n116        52832     13\n84         47440     10\n333        83287      9",
      "text/html": "<div>\n<style scoped>\n    .dataframe tbody tr th:only-of-type {\n        vertical-align: middle;\n    }\n\n    .dataframe tbody tr th {\n        vertical-align: top;\n    }\n\n    .dataframe thead th {\n        text-align: right;\n    }\n</style>\n<table border=\"1\" class=\"dataframe\">\n  <thead>\n    <tr style=\"text-align: right;\">\n      <th></th>\n      <th>customer_id</th>\n      <th>count</th>\n    </tr>\n  </thead>\n  <tbody>\n    <tr>\n      <th>116</th>\n      <td>52832</td>\n      <td>13</td>\n    </tr>\n    <tr>\n      <th>84</th>\n      <td>47440</td>\n      <td>10</td>\n    </tr>\n    <tr>\n      <th>333</th>\n      <td>83287</td>\n      <td>9</td>\n    </tr>\n  </tbody>\n</table>\n</div>"
     },
     "execution_count": 27,
     "metadata": {},
     "output_type": "execute_result"
    }
   ],
   "source": [
    "df.groupby(['customer_id'])['order_id'].count().reset_index(name='count').sort_values(by='count', ascending=False).head(3)"
   ]
  },
  {
   "cell_type": "markdown",
   "metadata": {
    "id": "9tWVwfX6JY_V"
   },
   "source": [
    "#### Observations:\n",
    "\n",
    "Here are the 3 customers ordering the most:\n",
    "\n",
    "- 52832 ordered 13 times\n",
    "- 47440 ordered 10 times\n",
    "- 83287 ordered 9 times"
   ]
  },
  {
   "cell_type": "markdown",
   "metadata": {
    "id": "AfIc2jPaJY_V"
   },
   "source": [
    "### Multivariate Analysis"
   ]
  },
  {
   "cell_type": "markdown",
   "metadata": {
    "id": "iqiS0RT_JY_V"
   },
   "source": [
    "### **Question 12**: Perform a multivariate analysis to explore relationships between the important variables in the dataset. (It is a good idea to explore relations between numerical variables as well as relations between numerical and categorical variables) [10 marks]\n"
   ]
  },
  {
   "cell_type": "code",
   "execution_count": null,
   "metadata": {
    "id": "3qt4MCNTJY_V"
   },
   "outputs": [],
   "source": [
    "# Write the code here"
   ]
  },
  {
   "cell_type": "markdown",
   "metadata": {
    "id": "YLkMf09YJY_V"
   },
   "source": [
    "### **Question 13:** The company wants to provide a promotional offer in the advertisement of the restaurants. The condition to get the offer is that the restaurants must have a rating count of more than 50 and the average rating should be greater than 4. Find the restaurants fulfilling the criteria to get the promotional offer. [3 marks]"
   ]
  },
  {
   "cell_type": "code",
   "execution_count": 32,
   "metadata": {
    "id": "0M_QDvbYJY_V",
    "ExecuteTime": {
     "end_time": "2023-09-07T14:42:24.715060731Z",
     "start_time": "2023-09-07T14:42:24.683885393Z"
    }
   },
   "outputs": [
    {
     "data": {
      "text/plain": "                           num_of_reviews  rating_avg\nrestaurant_name                                      \nBlue Ribbon Fried Chicken              64    4.328125\nBlue Ribbon Sushi                      73    4.219178\nShake Shack                           133    4.278195\nThe Meatball Shop                      84    4.511905",
      "text/html": "<div>\n<style scoped>\n    .dataframe tbody tr th:only-of-type {\n        vertical-align: middle;\n    }\n\n    .dataframe tbody tr th {\n        vertical-align: top;\n    }\n\n    .dataframe thead th {\n        text-align: right;\n    }\n</style>\n<table border=\"1\" class=\"dataframe\">\n  <thead>\n    <tr style=\"text-align: right;\">\n      <th></th>\n      <th>num_of_reviews</th>\n      <th>rating_avg</th>\n    </tr>\n    <tr>\n      <th>restaurant_name</th>\n      <th></th>\n      <th></th>\n    </tr>\n  </thead>\n  <tbody>\n    <tr>\n      <th>Blue Ribbon Fried Chicken</th>\n      <td>64</td>\n      <td>4.328125</td>\n    </tr>\n    <tr>\n      <th>Blue Ribbon Sushi</th>\n      <td>73</td>\n      <td>4.219178</td>\n    </tr>\n    <tr>\n      <th>Shake Shack</th>\n      <td>133</td>\n      <td>4.278195</td>\n    </tr>\n    <tr>\n      <th>The Meatball Shop</th>\n      <td>84</td>\n      <td>4.511905</td>\n    </tr>\n  </tbody>\n</table>\n</div>"
     },
     "execution_count": 32,
     "metadata": {},
     "output_type": "execute_result"
    }
   ],
   "source": [
    "ratings = df[df.rating != 'Not given'].groupby(['restaurant_name']).agg(num_of_reviews=('rating_num', 'size'), rating_avg=('rating_num', 'mean'))\n",
    "ratings[ratings.num_of_reviews > 50]"
   ]
  },
  {
   "cell_type": "markdown",
   "metadata": {
    "id": "10uryUMhJY_V"
   },
   "source": [
    "#### Observations:\n"
   ]
  },
  {
   "cell_type": "markdown",
   "metadata": {
    "id": "1gvWBkRUJY_V"
   },
   "source": [
    "### **Question 14:** The company charges the restaurant 25% on the orders having cost greater than 20 dollars and 15% on the orders having cost greater than 5 dollars. Find the net revenue generated by the company across all orders. [3 marks]"
   ]
  },
  {
   "cell_type": "code",
   "execution_count": 38,
   "metadata": {
    "id": "rEjbnTNEJY_W",
    "ExecuteTime": {
     "end_time": "2023-09-07T14:55:35.665424697Z",
     "start_time": "2023-09-07T14:55:35.620853565Z"
    }
   },
   "outputs": [
    {
     "data": {
      "text/plain": "6166.303"
     },
     "execution_count": 38,
     "metadata": {},
     "output_type": "execute_result"
    }
   ],
   "source": [
    "(df[(df.cost_of_the_order > 5) & (df.cost_of_the_order <=20)].cost_of_the_order.sum() * 0.15) + (df[df.cost_of_the_order > 20].cost_of_the_order.sum() * 0.25) "
   ]
  },
  {
   "cell_type": "markdown",
   "metadata": {
    "id": "XHCEJgH0JY_W"
   },
   "source": [
    "#### Observations:\n"
   ]
  },
  {
   "cell_type": "markdown",
   "metadata": {
    "id": "pRlVW-oeJY_W"
   },
   "source": [
    "### **Question 15:** The company wants to analyze the total time required to deliver the food. What percentage of orders take more than 60 minutes to get delivered from the time the order is placed? (The food has to be prepared and then delivered.) [2 marks]"
   ]
  },
  {
   "cell_type": "code",
   "execution_count": 41,
   "metadata": {
    "id": "zxoTrxfLJY_W",
    "ExecuteTime": {
     "end_time": "2023-09-07T14:57:57.150340096Z",
     "start_time": "2023-09-07T14:57:57.106575455Z"
    }
   },
   "outputs": [
    {
     "data": {
      "text/plain": "'10.54%'"
     },
     "execution_count": 41,
     "metadata": {},
     "output_type": "execute_result"
    }
   ],
   "source": [
    "f\"{df[df.total_time > 60]['order_id'].count() / df['order_id'].count():.2%}\""
   ]
  },
  {
   "cell_type": "markdown",
   "metadata": {
    "id": "iqzBXn2yJY_W"
   },
   "source": [
    "#### Observations:\n"
   ]
  },
  {
   "cell_type": "markdown",
   "metadata": {
    "id": "bUd6cYpPJY_W"
   },
   "source": [
    "### **Question 16:** The company wants to analyze the delivery time of the orders on weekdays and weekends. How does the mean delivery time vary during weekdays and weekends? [2 marks]"
   ]
  },
  {
   "cell_type": "code",
   "execution_count": 42,
   "metadata": {
    "id": "pIU5xZZ6JY_W",
    "ExecuteTime": {
     "end_time": "2023-09-07T14:59:23.975443851Z",
     "start_time": "2023-09-07T14:59:23.949416180Z"
    }
   },
   "outputs": [
    {
     "data": {
      "text/plain": "day_of_the_week\nWeekday    28.340037\nWeekend    22.470022\nName: delivery_time, dtype: float64"
     },
     "execution_count": 42,
     "metadata": {},
     "output_type": "execute_result"
    }
   ],
   "source": [
    "df.groupby(['day_of_the_week'])['delivery_time'].mean()"
   ]
  },
  {
   "cell_type": "markdown",
   "metadata": {
    "id": "8H-ODxbVJY_W"
   },
   "source": [
    "#### Observations:\n"
   ]
  },
  {
   "cell_type": "markdown",
   "metadata": {
    "id": "17roJywaJY_W"
   },
   "source": [
    "### Conclusion and Recommendations"
   ]
  },
  {
   "cell_type": "markdown",
   "metadata": {
    "id": "ZdX2Wz4FJY_W"
   },
   "source": [
    "### **Question 17:** What are your conclusions from the analysis? What recommendations would you like to share to help improve the business? (You can use cuisine type and feedback ratings to drive your business recommendations.) [6 marks]"
   ]
  },
  {
   "cell_type": "markdown",
   "metadata": {
    "id": "VTugVsL4Ddz-"
   },
   "source": [
    "### Conclusions:\n",
    "*  "
   ]
  },
  {
   "cell_type": "markdown",
   "metadata": {
    "id": "PWnsI0i_guWJ"
   },
   "source": [
    "### Recommendations:\n",
    "\n",
    "*  "
   ]
  },
  {
   "cell_type": "markdown",
   "metadata": {
    "id": "tSoucKKbg9Hc"
   },
   "source": [
    "---"
   ]
  }
 ],
 "metadata": {
  "colab": {
   "name": "PYF_Project_LearnerNotebook_FullCode.ipynb",
   "provenance": []
  },
  "kernelspec": {
   "display_name": "Python 3 (ipykernel)",
   "language": "python",
   "name": "python3"
  },
  "language_info": {
   "codemirror_mode": {
    "name": "ipython",
    "version": 3
   },
   "file_extension": ".py",
   "mimetype": "text/x-python",
   "name": "python",
   "nbconvert_exporter": "python",
   "pygments_lexer": "ipython3",
   "version": "3.11.4"
  }
 },
 "nbformat": 4,
 "nbformat_minor": 0
}
