version https://git-lfs.github.com/spec/v1
oid sha256:63c71c98eea3b68f2dfbcfef07624e67d9992c4ab6e40fb0e3d2d8a1cdb11aa6
size 699734
